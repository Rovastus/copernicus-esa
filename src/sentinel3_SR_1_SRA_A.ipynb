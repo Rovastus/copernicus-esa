{
 "cells": [
  {
   "cell_type": "code",
   "execution_count": 1,
   "metadata": {
    "tags": [
     "outputPrepend"
    ]
   },
   "outputs": [],
   "source": [
    "from src.sentinel_api import get_sentinel_api\n",
    "from src.constant import GEOJSON_PATH, DOWNLOADED_DATA_PATH, REMOVE_ZIPS\n",
    "import os\n",
    "\n",
    "# get api \n",
    "api = get_sentinel_api()"
   ]
  },
  {
   "cell_type": "code",
   "execution_count": 2,
   "metadata": {},
   "outputs": [
    {
     "output_type": "stream",
     "name": "stderr",
     "text": "Downloading: 100%|██████████| 2.53G/2.53G [01:44<00:00, 24.3MB/s]\nMD5 checksumming: 100%|██████████| 2.53G/2.53G [01:40<00:00, 25.2MB/s](OrderedDict([('21994fa4-51e6-4a79-97b4-7ebe1fd58f2a', {'id': '21994fa4-51e6-4a79-97b4-7ebe1fd58f2a', 'title': 'S3A_SR_1_SRA_A__20200530T073822_20200530T082852_20200531T163743_3029_059_006______LN3_O_ST_003', 'size': 2529885729, 'md5': '707066F33A8925DEC1773A2D6F65745D', 'date': datetime.datetime(2020, 5, 30, 7, 38, 22, 272000), 'footprint': 'POLYGON((-53.3313 -81.4176,-65.3235 -81.2706,-76.4852 -80.7751,-86.2259 -79.9826,-94.388 -78.9569,-101.099 -77.7563,-106.597 -76.4271,-111.124 -75.0033,-114.888 -73.5093,-118.054 -71.9624,-120.75 -70.375,-123.072 -68.7561,-125.096 -67.1121,-126.876 -65.4481,-128.459 -63.7676,-129.878 -62.0736,-131.16 -60.3683,-132.327 -58.6533,-133.397 -56.9301,-134.383 -55.1997,-135.299 -53.4631,-136.152 -51.7211,-136.952 -49.9741,-137.704 -48.2229,-138.416 -46.4677,-139.091 -44.7089,-139.734 -42.947,-140.348 -41.1821,-140.937 -39.4144,-141.503 -37.6443,-142.049 -35.8719,-142.577 -34.0973,-143.088 -32.3208,-143.585 -30.5424,-144.068 -28.7622,-144.54 -26.9805,-145.001 -25.1973,-145.452 -23.4128,-145.895 -21.6269,-146.33 -19.8399,-146.759 -18.0518,-147.181 -16.2628,-147.598 -14.4728,-148.011 -12.682,-148.42 -10.8905,-148.825 -9.09835,-149.228 -7.30566,-149.628 -5.51249,-150.027 -3.71894,-150.425 -1.92508,-150.822 -0.13101,-151.219 1.6632,-151.617 3.45746,-152.016 5.25169,-152.416 7.0458,-152.818 8.83972,-153.224 10.6333,-153.632 12.4266,-154.044 14.2194,-154.461 16.0116,-154.883 17.8033,-155.311 19.5941,-155.746 21.3842,-156.188 23.1733,-156.639 24.9614,-157.099 26.7484,-157.57 28.5341,-158.053 30.3185,-158.549 32.1013,-159.059 33.8826,-159.585 35.6621,-160.13 37.4397,-160.695 39.2151,-161.283 40.9883,-161.895 42.759,-162.537 44.5269,-163.21 46.2918,-163.919 48.0533,-164.67 49.8111,-165.467 51.5647,-166.318 53.3136,-167.23 55.0572,-168.214 56.7947,-169.28 58.5253,-170.443 60.2477,-171.721 61.9608,-173.135 63.6626,-174.713 65.351,-176.488 67.0231,-178.505 68.6754,179.18 70.3028,176.492 71.8988,173.333 73.4544,169.577 74.9573,165.057 76.3901,159.564 77.7284,152.852 78.9378,144.678 79.9718,134.911 80.7714,123.706 81.272,111.657 81.421,111.657 81.4192,123.703 81.2702,134.907 80.7698,144.673 79.9703,152.846 78.9364,159.558 77.7271,165.051 76.389,169.571 74.9563,173.328 73.4534,176.487 71.8979,179.175 70.3019,-178.509 68.6746,-176.492 67.0224,-174.717 65.3503,-173.139 63.6619,-171.725 61.9601,-170.447 60.2471,-169.283 58.5247,-168.217 56.7941,-167.233 55.0566,-166.321 53.313,-165.47 51.5642,-164.672 49.8106,-163.922 48.0528,-163.212 46.2913,-162.539 44.5264,-161.898 42.7585,-161.285 40.9879,-160.697 39.2147,-160.132 37.4392,-159.588 35.6617,-159.061 33.8822,-158.551 32.1009,-158.055 30.318,-157.572 28.5337,-157.101 26.748,-156.641 24.961,-156.19 23.1729,-155.748 21.3838,-155.313 19.5937,-154.885 17.8029,-154.463 16.0112,-154.046 14.219,-153.634 12.4262,-153.225 10.6329,-152.82 8.83932,-152.418 7.04541,-152.017 5.2513,-151.619 3.45707,-151.221 1.66281,-150.824 -0.131403,-150.426 -1.92548,-150.029 -3.71933,-149.63 -5.51288,-149.229 -7.30605,-148.827 -9.09875,-148.421 -10.8909,-148.013 -12.6824,-147.6 -14.4732,-147.183 -16.2632,-146.76 -18.0522,-146.332 -19.8403,-145.897 -21.6273,-145.454 -23.4132,-145.003 -25.1977,-144.542 -26.9809,-144.07 -28.7627,-143.587 -30.5428,-143.09 -32.3212,-142.579 -34.0977,-142.051 -35.8723,-141.505 -37.6448,-140.939 -39.4149,-140.35 -41.1825,-139.736 -42.9474,-139.093 -44.7094,-138.418 -46.4682,-137.707 -48.2234,-136.954 -49.9746,-136.155 -51.7216,-135.302 -53.4637,-134.386 -55.2002,-133.4 -56.9306,-132.33 -58.6539,-131.163 -60.3689,-129.881 -62.0743,-128.463 -63.7683,-126.88 -65.4488,-125.1 -67.1128,-123.077 -68.7568,-120.755 -70.3759,-118.059 -71.9633,-114.893 -73.5103,-111.129 -75.0044,-106.603 -76.4283,-101.105 -77.7576,-94.3938 -78.9583,-86.2312 -79.9841,-76.4892 -80.7767,-65.3257 -81.2723,-53.331 -81.4194,-53.3313 -81.4176))', 'url': \"https://scihub.copernicus.eu/dhus/odata/v1/Products('21994fa4-51e6-4a79-97b4-7ebe1fd58f2a')/$value\", 'Online': True, 'Creation Date': datetime.datetime(2020, 5, 31, 17, 0, 2, 614000), 'Ingestion Date': datetime.datetime(2020, 5, 31, 16, 59, 38, 806000), 'path': './src/data/S3A_SR_1_SRA_A__20200530T073822_20200530T082852_20200531T163743_3029_059_006______LN3_O_ST_003.zip', 'downloaded_bytes': 2529885729})]), OrderedDict(), set())\n\n"
    }
   ],
   "source": [
    "# search by polygon, time, and Hub query keywords\n",
    "products_query = api.query(\n",
    "                    limit = 1,\n",
    "                    filename = 'S3A_*',\n",
    "                    producttype = 'SR_1_SRA_A_')\n",
    "\n",
    "os.makedirs(DOWNLOADED_DATA_PATH, exist_ok = True) \n",
    "products = api.download_all(products_query, DOWNLOADED_DATA_PATH)\n",
    "print(products)"
   ]
  },
  {
   "cell_type": "code",
   "execution_count": 3,
   "metadata": {},
   "outputs": [],
   "source": [
    "file_titles = []\n",
    "zip_files = []\n",
    "\n",
    "for product in products:\n",
    "    for product_id in product:\n",
    "        file_titles.append(product[product_id]['title'])\n",
    "        zip_files.append(product[product_id]['path'])\n",
    "\n",
    "        import zipfile\n",
    "        archive = zipfile.ZipFile(product[product_id]['path'], 'r')\n",
    "        archive.extractall(path=DOWNLOADED_DATA_PATH)\n",
    "\n",
    "for zip_file in zip_files:\n",
    "    if REMOVE_ZIPS:\n",
    "        os.remove(zip_file)    "
   ]
  },
  {
   "cell_type": "code",
   "execution_count": 4,
   "metadata": {},
   "outputs": [
    {
     "output_type": "stream",
     "name": "stdout",
     "text": "./src/data/S3A_SR_1_SRA_A__20200530T073822_20200530T082852_20200531T163743_3029_059_006______LN3_O_ST_003.SEN3/measurement_l1a.nc\necho_sample_ind (128,)\nsar_ku_pulse_burst_ind (64,)\nsar_c_pulse_burst_ind (2,)\nltm_max_ind (3,)\ntime_l1a_echo_sar_ku (237254,)\nUTC_day_l1a_echo_sar_ku (237254,)\nUTC_sec_l1a_echo_sar_ku (237254,)\nUTC_time_20hz_l1a_echo_sar_ku (237254,)\nisp_coarse_time_l1a_echo_sar_ku (237254,)\nisp_fine_time_l1a_echo_sar_ku (237254,)\nflag_time_status_l1a_echo_sar_ku (237254,)\nsral_fine_time_l1a_echo_sar_ku (237254,)\nlat_l1a_echo_sar_ku (237254,)\nlon_l1a_echo_sar_ku (237254,)\nsurf_type_l1a_echo_sar_ku (237254,)\nburst_count_prod_l1a_echo_sar_ku (237254,)\nseq_count_l1a_echo_sar_ku (237254,)\nburst_count_cycle_l1a_echo_sar_ku (237254,)\nnav_bul_status_l1a_echo_sar_ku (237254,)\nnav_bul_source_l1a_echo_sar_ku (237254,)\noper_instr_l1a_echo_sar_ku (237254,)\nSAR_mode_l1a_echo_sar_ku (237254,)\ncl_gain_l1a_echo_sar_ku (237254,)\nacq_stat_l1a_echo_sar_ku (237254,)\ndem_eeprom_l1a_echo_sar_ku (237254,)\nweighting_l1a_echo_sar_ku (237254,)\nloss_track_l1a_echo_sar_ku (237254,)\nh0_nav_dem_l1a_echo_sar_ku (237254,)\nh0_applied_l1a_echo_sar_ku (237254,)\ncor2_nav_dem_l1a_echo_sar_ku (237254,)\ncor2_applied_l1a_echo_sar_ku (237254,)\ndh0_l1a_echo_sar_ku (237254,)\nagccode_ku_l1a_echo_sar_ku (237254,)\nagccode_c_l1a_echo_sar_ku (237254,)\nalt_l1a_echo_sar_ku (237254,)\norb_alt_rate_l1a_echo_sar_ku (237254,)\nx_pos_l1a_echo_sar_ku (237254,)\ny_pos_l1a_echo_sar_ku (237254,)\nz_pos_l1a_echo_sar_ku (237254,)\nx_vel_l1a_echo_sar_ku (237254,)\ny_vel_l1a_echo_sar_ku (237254,)\nz_vel_l1a_echo_sar_ku (237254,)\nroll_sat_pointing_l1a_echo_sar_ku (237254,)\npitch_sat_pointing_l1a_echo_sar_ku (237254,)\nyaw_sat_pointing_l1a_echo_sar_ku (237254,)\nroll_sral_mispointing_l1a_echo_sar_ku (237254,)\npitch_sral_mispointing_l1a_echo_sar_ku (237254,)\nyaw_sral_mispointing_l1a_echo_sar_ku (237254,)\nrange_ku_l1a_echo_sar_ku (237254,)\nint_path_cor_ku_l1a_echo_sar_ku (237254,)\nuso_cor_l1a_echo_sar_ku (237254,)\ncog_cor_l1a_echo_sar_ku (237254,)\nagc_ku_l1a_echo_sar_ku (237254,)\nagc_c_l1a_echo_sar_ku (237254,)\nscale_factor_ku_l1a_echo_sar_ku (237254,)\nscale_factor_c_l1a_echo_sar_ku (237254,)\nsig0_cal_ku_l1a_echo_sar_ku (237254,)\nsig0_cal_c_l1a_echo_sar_ku (237254,)\ni_meas_ku_l1a_echo_sar_ku (237254, 64, 128)\nq_meas_ku_l1a_echo_sar_ku (237254, 64, 128)\ni_meas_c_l1a_echo_sar_ku (237254, 2, 128)\nq_meas_c_l1a_echo_sar_ku (237254, 2, 128)\ngprw_meas_ku_l1a_echo_sar_ku (237254, 3, 128)\ngprw_meas_c_l1a_echo_sar_ku (237254, 3, 128)\ncal2_ku_ind_l1a_echo_sar_ku (237254,)\nburst_power_cor_ku_l1a_echo_sar_ku (237254, 64)\nburst_phase_cor_ku_l1a_echo_sar_ku (237254, 64)\ncal1_ku_ind_l1a_echo_sar_ku (237254,)\ntime_l1a_echo_plrm (59313,)\ni2q2_meas_ku_l1a_echo_plrm (59313, 128)\ni2q2_meas_c_l1a_echo_plrm (59313, 128)\n\n\n"
    }
   ],
   "source": [
    "from netCDF4 import Dataset\n",
    "for file_title in file_titles:\n",
    "    data_path = os.path.join(DOWNLOADED_DATA_PATH, '{}.SEN3'.format(file_title))\n",
    "    for nc_file_name in sorted(os.listdir(data_path)):\n",
    "        if nc_file_name.endswith('.nc'):\n",
    "            nc_file_path =  os.path.join(data_path, nc_file_name)  \n",
    "            print(nc_file_path)\n",
    "            rootgrp = Dataset(nc_file_path, \"r\", format=\"NETCDF4\")\n",
    "\n",
    "            for i in rootgrp.variables:\n",
    "                print(i, rootgrp.variables[i].shape)\n",
    "\n",
    "            print('\\n')"
   ]
  },
  {
   "cell_type": "code",
   "execution_count": null,
   "metadata": {},
   "outputs": [],
   "source": []
  }
 ],
 "metadata": {
  "kernelspec": {
   "display_name": "Python 3",
   "language": "python",
   "name": "python3"
  },
  "language_info": {
   "codemirror_mode": {
    "name": "ipython",
    "version": 3
   },
   "file_extension": ".py",
   "mimetype": "text/x-python",
   "name": "python",
   "nbconvert_exporter": "python",
   "pygments_lexer": "ipython3",
   "version": "3.9.0-beta"
  }
 },
 "nbformat": 4,
 "nbformat_minor": 4
}