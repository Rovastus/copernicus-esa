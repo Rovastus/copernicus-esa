{
 "cells": [
  {
   "cell_type": "code",
   "execution_count": 1,
   "metadata": {
    "tags": [
     "outputPrepend"
    ]
   },
   "outputs": [],
   "source": [
    "from src.sentinel_api import get_sentinel_api\n",
    "from src.constant import GEOJSON_PATH, DOWNLOADED_DATA_PATH\n",
    "import os\n",
    "\n",
    "# get api \n",
    "api = get_sentinel_api()"
   ]
  },
  {
   "cell_type": "code",
   "execution_count": 2,
   "metadata": {},
   "outputs": [
    {
     "output_type": "stream",
     "name": "stderr",
     "text": "Downloading: 100%|██████████| 38.6M/38.6M [00:01<00:00, 22.6MB/s]\nMD5 checksumming: 100%|██████████| 38.6M/38.6M [00:01<00:00, 37.4MB/s]\n"
    }
   ],
   "source": [
    "from sentinelsat.sentinel import read_geojson, geojson_to_wkt\n",
    "# load footpring from geojson\n",
    "footprint = geojson_to_wkt(read_geojson(GEOJSON_PATH))\n",
    "\n",
    "# search by polygon, time, and Hub query keywords\n",
    "products_query = api.query(\n",
    "                    footprint,\n",
    "                    limit = 1,\n",
    "                    sensoroperationalmode = 'WV',\n",
    "                    filename = 'S1A_*',\n",
    "                    producttype = 'OCN')\n",
    "\n",
    "os.makedirs(DOWNLOADED_DATA_PATH, exist_ok = True) \n",
    "products = api.download_all(products_query, DOWNLOADED_DATA_PATH)"
   ]
  },
  {
   "cell_type": "code",
   "execution_count": 3,
   "metadata": {},
   "outputs": [],
   "source": [
    "file_titles = []\n",
    "zip_files = []\n",
    "\n",
    "for product in products:\n",
    "    for product_id in product:\n",
    "        file_titles.append(product[product_id]['title'])\n",
    "        zip_files.append(product[product_id]['path'])\n",
    "\n",
    "        import zipfile\n",
    "        archive = zipfile.ZipFile(product[product_id]['path'], 'r')\n",
    "        archive.extractall(path=DOWNLOADED_DATA_PATH)\n",
    "\n",
    "for zip_file in zip_files:\n",
    "    os.remove(zip_file)    "
   ]
  },
  {
   "cell_type": "code",
   "execution_count": 4,
   "metadata": {},
   "outputs": [
    {
     "output_type": "stream",
     "name": "stdout",
     "text": "owiLon (1, 1)\nowiLat (1, 1)\nowiIncidenceAngle (1, 1)\nowiElevationAngle (1, 1)\nowiWindSpeed (1, 1)\nowiWindDirection (1, 1)\nowiEcmwfWindSpeed (1, 1)\nowiEcmwfWindDirection (1, 1)\nowiNrcs (1, 1, 1)\nowiNesz (1, 1, 1)\nowiPBright (1, 1)\nowiNrcsCmod (1, 1)\nowiCalConstObsi (1,)\nowiCalConstInci (1,)\nowiInversionQuality (1, 1)\nowiMask (1, 1)\nowiHeading (1, 1)\nowiWindQuality (1, 1)\nowiRadVel (1, 1)\nowiNrcsNeszCorr (1, 1, 1)\nowiPolarisationName (1,)\nowiHs (1, 1, 5)\nowiWl (1, 1, 5)\nowiDirmet (1, 1, 5)\nowiWindSeaHs (1, 1)\nrvlLon (1, 1)\nrvlLat (1, 1)\nrvlSlantRangeTime (1, 1)\nrvlZeroDopplerTime (1, 1, 26)\nrvlGroundRngSize (1, 1)\nrvlAziSize (1, 1)\nrvlIncidenceAngle (1, 1)\nrvlHeading (1, 1)\nrvlDcObs (1, 1)\nrvlNrcs (1, 1)\nrvlDcObsStd (1, 1)\nrvlRadVel (1, 1)\nrvlRadVelStd (1, 1)\nrvlDcGeo (1, 1)\nrvlDcMiss (1, 1)\nrvlSweepAngle (1, 1)\nrvlYaw (1, 1)\nrvlPitch (1, 1)\nrvlRoll (1, 1)\nrvlSnr (1, 1)\nrvlConfDcObs (1, 1)\nrvlUssX (1, 1)\nrvlUssY (1, 1)\nrvlLandCoverage (1, 1)\nrvlLandFlag (1, 1)\noswLon (1, 1)\noswLat (1, 1)\noswGroundRngSize (1, 1)\noswAziSize (1, 1)\noswIncidenceAngle (1, 1)\noswHeading (1, 1)\noswInten (1, 1)\noswNv (1, 1)\noswSkew (1, 1)\noswKurt (1, 1)\noswPolSpec (1, 1, 72, 60)\noswPartitions (1, 1, 72, 60)\noswQualityCrossSpectraRe (1, 1, 72, 60)\noswQualityCrossSpectraIm (1, 1, 72, 60)\noswK (60,)\noswPhi (72,)\noswLookSeparationTime (1, 1)\noswNrcs (1, 1)\noswWindSeaHs (1, 1)\noswWaveAge (1, 1)\noswNlWidth (1, 1)\noswSnr (1, 1)\noswAzCutoff (1, 1)\noswRaCutoff (1, 1)\noswSpecRes (1, 1, 72)\noswHs (1, 1, 5)\noswWl (1, 1, 5)\noswDirmet (1, 1, 5)\noswAmbiFac (1, 1, 5)\noswIconf (1, 1, 5)\noswWindSpeed (1, 1)\noswWindDirection (1, 1)\noswEcmwfWindSpeed (1, 1)\noswEcmwfWindDirection (1, 1)\noswLandCoverage (1, 1)\noswLandFlag (1, 1)\noswDepth (1, 1)\noswQualityFlag (1, 1)\noswQualityFlagPartition (1, 1, 5)\noswTotalHs (1, 1)\noswGroupDir (1, 1, 5)\noswEllipsLength (1, 1, 5)\noswEllipsLengthStdDev (1, 1, 5)\noswEllipsWidth (1, 1, 5)\noswEllipsWidthStdDev (1, 1, 5)\noswCartSpecRe (1, 1, 185, 128, 3)\noswCartSpecIm (1, 1, 185, 128, 3)\noswKx (128,)\noswKy (185,)\noswJx (1, 128)\noswJy (1, 185)\n"
    }
   ],
   "source": [
    "from netCDF4 import Dataset\n",
    "for file_title in file_titles:\n",
    "    measurement_path = os.path.join(DOWNLOADED_DATA_PATH, '{}.SAFE'.format(file_title), 'measurement')\n",
    "    for nc_file_name in os.listdir(measurement_path):\n",
    "        if nc_file_name.endswith('007.nc'):\n",
    "            nc_file_path =  os.path.join(measurement_path, nc_file_name)   \n",
    "\n",
    "            rootgrp = Dataset(nc_file_path, \"r\", format=\"NETCDF4\")\n",
    "\n",
    "            for i in rootgrp.variables:\n",
    "                print(i, rootgrp.variables[i].shape)"
   ]
  },
  {
   "cell_type": "code",
   "execution_count": null,
   "metadata": {},
   "outputs": [],
   "source": []
  }
 ],
 "metadata": {
  "kernelspec": {
   "display_name": "Python 3",
   "language": "python",
   "name": "python3"
  },
  "language_info": {
   "codemirror_mode": {
    "name": "ipython",
    "version": 3
   },
   "file_extension": ".py",
   "mimetype": "text/x-python",
   "name": "python",
   "nbconvert_exporter": "python",
   "pygments_lexer": "ipython3",
   "version": "3.9.0-beta"
  }
 },
 "nbformat": 4,
 "nbformat_minor": 4
}