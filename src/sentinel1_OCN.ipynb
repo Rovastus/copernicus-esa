{
 "cells": [
  {
   "cell_type": "code",
   "execution_count": 1,
   "metadata": {
    "tags": [
     "outputPrepend"
    ]
   },
   "outputs": [],
   "source": [
    "from src.sentinel_api import get_sentinel_api\n",
    "from src.constant import GEOJSON_PATH, DOWNLOADED_DATA_PATH, REMOVE_ZIPS\n",
    "import os\n",
    "\n",
    "# get api \n",
    "api = get_sentinel_api()"
   ]
  },
  {
   "cell_type": "code",
   "execution_count": 2,
   "metadata": {},
   "outputs": [
    {
     "output_type": "stream",
     "name": "stderr",
     "text": "Downloading: 100%|██████████| 38.6M/38.6M [00:02<00:00, 16.9MB/s]\nMD5 checksumming: 100%|██████████| 38.6M/38.6M [00:01<00:00, 31.0MB/s](OrderedDict([('82d7ea72-6d4b-47f5-9136-4fce770a113d', {'id': '82d7ea72-6d4b-47f5-9136-4fce770a113d', 'title': 'S1A_WV_OCN__2SSV_20200527T140600_20200527T142155_032751_03CB41_E4BB', 'size': 38649093, 'md5': '37D13ABFA59C4984CC7F303F953E69D2', 'date': datetime.datetime(2020, 5, 27, 14, 6, 0, 485000), 'footprint': 'POLYGON((70.017982 -43.927235,69.338051 -42.195274,68.690392 -40.459091,68.071953 -38.719322,68.011978 -38.542126,67.479652 -36.976318,66.898438 -35.233238,66.351364 -33.48465,65.823563 -31.733421,65.772049 -31.554905,65.313087 -29.980236,64.807739 -28.227394,64.327919 -26.470177,63.861 -24.710981,63.40593 -22.950567,63.361179 -22.771023,62.96151 -21.188286,62.518276 -19.426443,62.092758 -17.661369,61.675213 -15.894879,61.633842 -15.714622,61.264912 -14.127766,60.854443 -12.361033,60.456898 -10.592044,60.064339 -8.821862,59.67651 -7.051275,59.637745 -6.870682,59.292637 -5.280307,58.908066 -3.509823,58.531105 -1.73765,58.153873 0.034529,58.116158 0.215252,57.784355 1.808175,57.410931 3.580784,57.041237 5.353773,56.67231 7.126645,56.303356 8.899634,55.933666 10.672501,55.896053 10.853209,55.564014 12.445044,55.526249 12.625752,57.026623 13.841225,57.210247 13.876636,57.245556 13.701578,57.567528 12.106294,57.602917 11.931106,57.92556 10.336004,57.960995 10.161021,58.284847 8.565974,58.320461 8.390802,58.646564 6.796161,58.682369 6.620916,59.010117 5.025981,59.046143 4.850745,59.376228 3.256143,59.412502 3.080997,59.745537 1.486084,59.782127 1.310925,60.119663 -0.283133,60.156616 -0.458294,60.496521 -2.052044,60.533817 -2.226907,60.877781 -3.819958,60.915577 -3.99499,61.264046 -5.587454,61.302341 -5.762425,61.655937 -7.354568,61.694813 -7.529542,62.056683 -9.120215,62.096165 -9.295073,62.461582 -10.88556,62.501694 -11.060106,62.873783 -12.649972,62.914669 -12.824562,63.294041 -14.413092,63.33569 -14.58735,63.726822 -16.174284,63.769409 -16.348598,64.165688 -17.935022,64.209244 -18.109159,64.614967 -19.693954,64.659569 -19.867868,65.075691 -21.451464,65.121483 -21.625322,65.548767 -23.20693,65.595833 -23.380608,66.040367 -24.959362,66.088776 -25.13266,66.542076 -26.710789,66.592003 -26.883873,67.060097 -28.459936,67.111694 -28.632786,67.595772 -30.206615,67.649162 -30.379105,68.156822 -31.949495,68.212219 -32.121708,68.733658 -33.690952,68.791275 -33.862904,69.334076 -35.429237,69.394157 -35.600967,69.960052 -37.163303,70.022781 -37.334606,70.614784 -38.894272,71.307564 -40.61882,71.376541 -40.789268,72.029182 -42.341125,72.101807 -42.51107,70.275299 -43.872112,70.017982 -43.927235,70.017982 -43.927235,70.017982 -43.927235))', 'url': \"https://scihub.copernicus.eu/dhus/odata/v1/Products('82d7ea72-6d4b-47f5-9136-4fce770a113d')/$value\", 'Online': True, 'Creation Date': datetime.datetime(2020, 5, 27, 23, 23, 0, 742000), 'Ingestion Date': datetime.datetime(2020, 5, 27, 23, 22, 57, 985000), 'path': './src/data/S1A_WV_OCN__2SSV_20200527T140600_20200527T142155_032751_03CB41_E4BB.zip', 'downloaded_bytes': 38649093})]), OrderedDict(), set())\n\n"
    }
   ],
   "source": [
    "from sentinelsat.sentinel import read_geojson, geojson_to_wkt\n",
    "# load footpring from geojson\n",
    "footprint = geojson_to_wkt(read_geojson(GEOJSON_PATH))\n",
    "\n",
    "# search by polygon, time, and Hub query keywords\n",
    "products_query = api.query(\n",
    "                    footprint,\n",
    "                    limit = 1,\n",
    "                    sensoroperationalmode = 'WV',\n",
    "                    filename = 'S1A_*',\n",
    "                    producttype = 'OCN')\n",
    "\n",
    "os.makedirs(DOWNLOADED_DATA_PATH, exist_ok = True) \n",
    "products = api.download_all(products_query, DOWNLOADED_DATA_PATH)\n",
    "print(products)"
   ]
  },
  {
   "cell_type": "code",
   "execution_count": 3,
   "metadata": {},
   "outputs": [],
   "source": [
    "file_titles = []\n",
    "zip_files = []\n",
    "\n",
    "for product in products:\n",
    "    for product_id in product:\n",
    "        file_titles.append(product[product_id]['title'])\n",
    "        zip_files.append(product[product_id]['path'])\n",
    "\n",
    "        import zipfile\n",
    "        archive = zipfile.ZipFile(product[product_id]['path'], 'r')\n",
    "        archive.extractall(path=DOWNLOADED_DATA_PATH)\n",
    "\n",
    "for zip_file in zip_files:\n",
    "    if REMOVE_ZIPS:\n",
    "        os.remove(zip_file)    "
   ]
  },
  {
   "cell_type": "code",
   "execution_count": 4,
   "metadata": {},
   "outputs": [
    {
     "output_type": "stream",
     "name": "stdout",
     "text": "owiLon (1, 1)\nowiLat (1, 1)\nowiIncidenceAngle (1, 1)\nowiElevationAngle (1, 1)\nowiWindSpeed (1, 1)\nowiWindDirection (1, 1)\nowiEcmwfWindSpeed (1, 1)\nowiEcmwfWindDirection (1, 1)\nowiNrcs (1, 1, 1)\nowiNesz (1, 1, 1)\nowiPBright (1, 1)\nowiNrcsCmod (1, 1)\nowiCalConstObsi (1,)\nowiCalConstInci (1,)\nowiInversionQuality (1, 1)\nowiMask (1, 1)\nowiHeading (1, 1)\nowiWindQuality (1, 1)\nowiRadVel (1, 1)\nowiNrcsNeszCorr (1, 1, 1)\nowiPolarisationName (1,)\nowiHs (1, 1, 5)\nowiWl (1, 1, 5)\nowiDirmet (1, 1, 5)\nowiWindSeaHs (1, 1)\nrvlLon (1, 1)\nrvlLat (1, 1)\nrvlSlantRangeTime (1, 1)\nrvlZeroDopplerTime (1, 1, 26)\nrvlGroundRngSize (1, 1)\nrvlAziSize (1, 1)\nrvlIncidenceAngle (1, 1)\nrvlHeading (1, 1)\nrvlDcObs (1, 1)\nrvlNrcs (1, 1)\nrvlDcObsStd (1, 1)\nrvlRadVel (1, 1)\nrvlRadVelStd (1, 1)\nrvlDcGeo (1, 1)\nrvlDcMiss (1, 1)\nrvlSweepAngle (1, 1)\nrvlYaw (1, 1)\nrvlPitch (1, 1)\nrvlRoll (1, 1)\nrvlSnr (1, 1)\nrvlConfDcObs (1, 1)\nrvlUssX (1, 1)\nrvlUssY (1, 1)\nrvlLandCoverage (1, 1)\nrvlLandFlag (1, 1)\noswLon (1, 1)\noswLat (1, 1)\noswGroundRngSize (1, 1)\noswAziSize (1, 1)\noswIncidenceAngle (1, 1)\noswHeading (1, 1)\noswInten (1, 1)\noswNv (1, 1)\noswSkew (1, 1)\noswKurt (1, 1)\noswPolSpec (1, 1, 72, 60)\noswPartitions (1, 1, 72, 60)\noswQualityCrossSpectraRe (1, 1, 72, 60)\noswQualityCrossSpectraIm (1, 1, 72, 60)\noswK (60,)\noswPhi (72,)\noswLookSeparationTime (1, 1)\noswNrcs (1, 1)\noswWindSeaHs (1, 1)\noswWaveAge (1, 1)\noswNlWidth (1, 1)\noswSnr (1, 1)\noswAzCutoff (1, 1)\noswRaCutoff (1, 1)\noswSpecRes (1, 1, 72)\noswHs (1, 1, 5)\noswWl (1, 1, 5)\noswDirmet (1, 1, 5)\noswAmbiFac (1, 1, 5)\noswIconf (1, 1, 5)\noswWindSpeed (1, 1)\noswWindDirection (1, 1)\noswEcmwfWindSpeed (1, 1)\noswEcmwfWindDirection (1, 1)\noswLandCoverage (1, 1)\noswLandFlag (1, 1)\noswDepth (1, 1)\noswQualityFlag (1, 1)\noswQualityFlagPartition (1, 1, 5)\noswTotalHs (1, 1)\noswGroupDir (1, 1, 5)\noswEllipsLength (1, 1, 5)\noswEllipsLengthStdDev (1, 1, 5)\noswEllipsWidth (1, 1, 5)\noswEllipsWidthStdDev (1, 1, 5)\noswCartSpecRe (1, 1, 185, 128, 3)\noswCartSpecIm (1, 1, 185, 128, 3)\noswKx (128,)\noswKy (185,)\noswJx (1, 128)\noswJy (1, 185)\n"
    }
   ],
   "source": [
    "from netCDF4 import Dataset\n",
    "for file_title in file_titles:\n",
    "    measurement_path = os.path.join(DOWNLOADED_DATA_PATH, '{}.SAFE'.format(file_title), 'measurement')\n",
    "    for nc_file_name in os.listdir(measurement_path):\n",
    "        if nc_file_name.endswith('007.nc'):\n",
    "            nc_file_path =  os.path.join(measurement_path, nc_file_name)   \n",
    "\n",
    "            rootgrp = Dataset(nc_file_path, \"r\", format=\"NETCDF4\")\n",
    "\n",
    "            for i in rootgrp.variables:\n",
    "                print(i, rootgrp.variables[i].shape)"
   ]
  },
  {
   "cell_type": "code",
   "execution_count": null,
   "metadata": {},
   "outputs": [],
   "source": []
  }
 ],
 "metadata": {
  "kernelspec": {
   "display_name": "Python 3",
   "language": "python",
   "name": "python3"
  },
  "language_info": {
   "codemirror_mode": {
    "name": "ipython",
    "version": 3
   },
   "file_extension": ".py",
   "mimetype": "text/x-python",
   "name": "python",
   "nbconvert_exporter": "python",
   "pygments_lexer": "ipython3",
   "version": "3.9.0-beta"
  }
 },
 "nbformat": 4,
 "nbformat_minor": 4
}