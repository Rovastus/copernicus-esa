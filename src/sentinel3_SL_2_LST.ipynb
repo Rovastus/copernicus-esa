{
 "cells": [
  {
   "cell_type": "code",
   "execution_count": 1,
   "metadata": {
    "tags": [
     "outputPrepend"
    ]
   },
   "outputs": [],
   "source": [
    "from src.sentinel_api import get_sentinel_api\n",
    "from src.constant import GEOJSON_PATH, DOWNLOADED_DATA_PATH, REMOVE_ZIPS\n",
    "import os\n",
    "\n",
    "# get api \n",
    "api = get_sentinel_api()"
   ]
  },
  {
   "cell_type": "code",
   "execution_count": 2,
   "metadata": {},
   "outputs": [
    {
     "output_type": "stream",
     "name": "stderr",
     "text": "Downloading: 100%|██████████| 57.2M/57.2M [00:05<00:00, 11.3MB/s]\nMD5 checksumming: 100%|██████████| 57.2M/57.2M [00:01<00:00, 37.8MB/s](OrderedDict([('2c23c8da-82ff-4179-9b9d-4e45537d6319', {'id': '2c23c8da-82ff-4179-9b9d-4e45537d6319', 'title': 'S3A_SL_2_LST____20200531T153925_20200531T154225_20200531T165411_0180_059_025_4680_LN2_O_NR_004', 'size': 57227299, 'md5': '5F8AFE60571B9EE3825848D12E2A6025', 'date': datetime.datetime(2020, 5, 31, 15, 39, 25, 29000), 'footprint': 'POLYGON((136.878 -64.254,136.123 -64.5734,135.314 -64.8762,134.501 -65.1789,133.691 -65.4816,132.85 -65.7777,131.983 -66.069,131.116 -66.357,130.198 -66.6408,129.271 -66.9117,128.336 -67.1827,127.371 -67.4532,126.379 -67.7146,125.367 -67.9664,124.335 -68.2082,123.277 -68.4523,122.216 -68.6851,121.122 -68.91,119.997 -69.1288,118.858 -69.3389,117.684 -69.5509,116.5 -69.7445,115.285 -69.9301,114.07 -70.1125,112.807 -70.2815,111.558 -70.4429,110.265 -70.5994,108.929 -70.7433,107.607 -70.876,106.277 -70.9954,105.739 -71.0472,108.039 -73.564,111.095 -76.0958,115.338 -78.5825,121.693 -80.9871,122.728 -80.9,125.145 -80.6715,127.495 -80.422,129.7 -80.163,131.842 -79.8897,133.802 -79.605,135.718 -79.3061,137.474 -78.9951,139.178 -78.6767,140.781 -78.3517,142.284 -78.0047,143.715 -77.6625,145.042 -77.3166,146.339 -76.9534,147.527 -76.5918,148.676 -76.2292,149.769 -75.8481,150.804 -75.4705,151.765 -75.0897,152.719 -74.6939,153.601 -74.3122,154.455 -73.9119,155.234 -73.5158,156.01 -73.1142,156.751 -72.7179,157.448 -72.3123,158.1 -71.8968,158.754 -71.4876,159.356 -71.0746,159.953 -70.6628,152.937 -69.3843,146.781 -67.8536,141.434 -66.1189,136.878 -64.254))', 'url': \"https://scihub.copernicus.eu/dhus/odata/v1/Products('2c23c8da-82ff-4179-9b9d-4e45537d6319')/$value\", 'Online': True, 'Creation Date': datetime.datetime(2020, 5, 31, 17, 31, 15, 405000), 'Ingestion Date': datetime.datetime(2020, 5, 31, 17, 30, 26, 996000), 'path': './src/data/S3A_SL_2_LST____20200531T153925_20200531T154225_20200531T165411_0180_059_025_4680_LN2_O_NR_004.zip', 'downloaded_bytes': 57227299})]), OrderedDict(), set())\n\n"
    }
   ],
   "source": [
    "# search by polygon, time, and Hub query keywords\n",
    "products_query = api.query(\n",
    "                    limit = 1,\n",
    "                    filename = 'S3A_*',\n",
    "                    producttype = 'SL_2_LST___')\n",
    "\n",
    "os.makedirs(DOWNLOADED_DATA_PATH, exist_ok = True) \n",
    "products = api.download_all(products_query, DOWNLOADED_DATA_PATH)\n",
    "print(products)"
   ]
  },
  {
   "cell_type": "code",
   "execution_count": 3,
   "metadata": {},
   "outputs": [],
   "source": [
    "file_titles = []\n",
    "zip_files = []\n",
    "\n",
    "for product in products:\n",
    "    for product_id in product:\n",
    "        file_titles.append(product[product_id]['title'])\n",
    "        zip_files.append(product[product_id]['path'])\n",
    "\n",
    "        import zipfile\n",
    "        archive = zipfile.ZipFile(product[product_id]['path'], 'r')\n",
    "        archive.extractall(path=DOWNLOADED_DATA_PATH)\n",
    "\n",
    "for zip_file in zip_files:\n",
    "    if REMOVE_ZIPS:\n",
    "        os.remove(zip_file)    "
   ]
  },
  {
   "cell_type": "code",
   "execution_count": 4,
   "metadata": {},
   "outputs": [
    {
     "output_type": "stream",
     "name": "stdout",
     "text": "./src/data/S3A_SL_2_LST____20200531T153925_20200531T154225_20200531T165411_0180_059_025_4680_LN2_O_NR_004.SEN3/LST_ancillary_ds.nc\nNDVI (1200, 1500)\nNDVI_orphan (1200, 187)\nTCWV (1200, 1500)\nTCWV_orphan (1200, 187)\nbiome (1200, 1500)\nbiome_orphan (1200, 187)\nfraction (1200, 1500)\nfraction_orphan (1200, 187)\nvalidation (256,)\n\n\n./src/data/S3A_SL_2_LST____20200531T153925_20200531T154225_20200531T165411_0180_059_025_4680_LN2_O_NR_004.SEN3/LST_in.nc\nLST (1200, 1500)\nLST_orphan (1200, 187)\nLST_uncertainty (1200, 1500)\nLST_uncertainty_orphan (1200, 187)\nexception (1200, 1500)\nexception_orphan (1200, 187)\n\n\n./src/data/S3A_SL_2_LST____20200531T153925_20200531T154225_20200531T165411_0180_059_025_4680_LN2_O_NR_004.SEN3/cartesian_in.nc\nx_in (1200, 1500)\nx_orphan_in (1200, 187)\ny_in (1200, 1500)\ny_orphan_in (1200, 187)\n\n\n./src/data/S3A_SL_2_LST____20200531T153925_20200531T154225_20200531T165411_0180_059_025_4680_LN2_O_NR_004.SEN3/cartesian_tx.nc\nx_tx (1200, 130)\ny_tx (1200, 130)\n\n\n./src/data/S3A_SL_2_LST____20200531T153925_20200531T154225_20200531T165411_0180_059_025_4680_LN2_O_NR_004.SEN3/flags_in.nc\nbayes_in (1200, 1500)\nbayes_orphan_in (1200, 1500)\ncloud_in (1200, 1500)\ncloud_orphan_in (1200, 187)\nconfidence_in (1200, 1500)\nconfidence_orphan_in (1200, 187)\npointing_in (1200, 1500)\npointing_orphan_in (1200, 187)\nprobability_cloud_dual_in (1200, 1500)\nprobability_cloud_single_in (1200, 1500)\n\n\n./src/data/S3A_SL_2_LST____20200531T153925_20200531T154225_20200531T165411_0180_059_025_4680_LN2_O_NR_004.SEN3/geodetic_in.nc\nelevation_in (1200, 1500)\nelevation_orphan_in (1200, 187)\nlatitude_in (1200, 1500)\nlatitude_orphan_in (1200, 187)\nlongitude_in (1200, 1500)\nlongitude_orphan_in (1200, 187)\n\n\n./src/data/S3A_SL_2_LST____20200531T153925_20200531T154225_20200531T165411_0180_059_025_4680_LN2_O_NR_004.SEN3/geodetic_tx.nc\nlatitude_tx (1200, 130)\nlongitude_tx (1200, 130)\n\n\n./src/data/S3A_SL_2_LST____20200531T153925_20200531T154225_20200531T165411_0180_059_025_4680_LN2_O_NR_004.SEN3/geometry_tn.nc\nsat_azimuth_tn (1200, 130)\nsat_path_tn (1200, 130)\nsat_zenith_tn (1200, 130)\nsolar_azimuth_tn (1200, 130)\nsolar_path_tn (1200, 130)\nsolar_zenith_tn (1200, 130)\n\n\n./src/data/S3A_SL_2_LST____20200531T153925_20200531T154225_20200531T165411_0180_059_025_4680_LN2_O_NR_004.SEN3/indices_in.nc\ndetector_in (1200, 1500)\ndetector_orphan_in (1200, 187)\nl0_scan_offset_in (1,)\npixel_in (1200, 1500)\npixel_orphan_in (1200, 187)\nscan_in (1200, 1500)\nscan_orphan_in (1200, 187)\n\n\n./src/data/S3A_SL_2_LST____20200531T153925_20200531T154225_20200531T165411_0180_059_025_4680_LN2_O_NR_004.SEN3/met_tx.nc\ncloud_fraction_tx (1, 1200, 130)\ndew_point_tx (1, 1, 1200, 130)\neast_west_stress_tx (5, 1200, 130)\nlatent_heat_tx (5, 1200, 130)\nnorth_south_stress_tx (5, 1200, 130)\np_atmos (25,)\nsea_ice_fraction_tx (1, 1200, 130)\nsea_surface_temperature_tx (1, 1200, 130)\nsensible_heat_tx (5, 1200, 130)\nskin_temperature_tx (1, 1200, 130)\nsnow_albedo_tx (1, 1200, 130)\nsnow_depth_tx (1, 1200, 130)\nsoil_wetness_tx (1, 1200, 130)\nsolar_radiation_tx (5, 1200, 130)\nspecific_humidity_tx (1, 25, 1200, 130)\nsurface_pressure_tx (1, 1200, 130)\nt_bound (5, 2)\nt_forecast ()\nt_series (5,)\nt_single (1,)\ntemperature_profile_tx (1, 25, 1200, 130)\ntemperature_tx (1, 1, 1200, 130)\nthermal_radiation_tx (5, 1200, 130)\ntotal_column_ozone_tx (1, 1200, 130)\ntotal_column_water_vapour_tx (1, 1200, 130)\nu_wind_tx (5, 1, 1200, 130)\nv_wind_tx (5, 1, 1200, 130)\nz_atmos (1,)\nz_bound (1, 2)\nz_soil (1,)\nz_wind (1,)\n\n\n./src/data/S3A_SL_2_LST____20200531T153925_20200531T154225_20200531T165411_0180_059_025_4680_LN2_O_NR_004.SEN3/time_in.nc\nNADIR_FIRST_PIXEL_i (1,)\nNadir_First_scan_i (1200,)\nNadir_Last_scan_i (1200,)\nNadir_Maximal_ts_i (1200,)\nNadir_Minimal_ts_i (1200,)\nOBLIQUE_FIRST_PIXEL_i (1,)\nOblique_First_scan_i (1200,)\nOblique_Last_scan_i (1200,)\nOblique_Maximal_ts_i (1200,)\nOblique_Minimal_ts_i (1200,)\nPIXSYNC_i (1,)\nSCANSYNC (1,)\ntime_stamp_i (1200,)\n\n\n"
    }
   ],
   "source": [
    "from netCDF4 import Dataset\n",
    "for file_title in file_titles:\n",
    "    data_path = os.path.join(DOWNLOADED_DATA_PATH, '{}.SEN3'.format(file_title))\n",
    "    for nc_file_name in sorted(os.listdir(data_path)):\n",
    "        if nc_file_name.endswith('.nc'):\n",
    "            nc_file_path =  os.path.join(data_path, nc_file_name)  \n",
    "            print(nc_file_path)\n",
    "            rootgrp = Dataset(nc_file_path, \"r\", format=\"NETCDF4\")\n",
    "\n",
    "            for i in rootgrp.variables:\n",
    "                print(i, rootgrp.variables[i].shape)\n",
    "\n",
    "            print('\\n')"
   ]
  },
  {
   "cell_type": "code",
   "execution_count": null,
   "metadata": {},
   "outputs": [],
   "source": []
  }
 ],
 "metadata": {
  "kernelspec": {
   "display_name": "Python 3",
   "language": "python",
   "name": "python3"
  },
  "language_info": {
   "codemirror_mode": {
    "name": "ipython",
    "version": 3
   },
   "file_extension": ".py",
   "mimetype": "text/x-python",
   "name": "python",
   "nbconvert_exporter": "python",
   "pygments_lexer": "ipython3",
   "version": "3.9.0-beta"
  }
 },
 "nbformat": 4,
 "nbformat_minor": 4
}