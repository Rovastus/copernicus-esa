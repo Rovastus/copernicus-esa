{
 "cells": [
  {
   "cell_type": "code",
   "execution_count": 1,
   "metadata": {
    "tags": [
     "outputPrepend"
    ]
   },
   "outputs": [],
   "source": [
    "from src.sentinel_api import get_sentinel_api\n",
    "from src.constant import GEOJSON_PATH, DOWNLOADED_DATA_PATH, REMOVE_ZIPS\n",
    "import os\n",
    "\n",
    "# get api \n",
    "api = get_sentinel_api()"
   ]
  },
  {
   "cell_type": "code",
   "execution_count": 2,
   "metadata": {},
   "outputs": [
    {
     "output_type": "stream",
     "name": "stderr",
     "text": "Downloading: 100%|██████████| 128M/128M [00:05<00:00, 22.6MB/s]\nMD5 checksumming: 100%|██████████| 128M/128M [00:03<00:00, 34.4MB/s](OrderedDict([('963903f0-838a-4f8f-9f5a-f6edd6a6d1fe', {'id': '963903f0-838a-4f8f-9f5a-f6edd6a6d1fe', 'title': 'S3A_SY_2_VG1____20200529T160000_20200530T160000_20200531T121422_NORTH_AMERICA_____LN2_O_ST_002', 'size': 128067161, 'md5': 'C51797C7339A659C60441C694C983B6E', 'date': datetime.datetime(2020, 5, 29, 16, 0), 'footprint': 'POLYGON((-180 40,-171.214 40,-162.429 40,-153.643 40,-144.857 40,-136.071 40,-127.286 40,-118.5 40,-109.714 40,-100.929 40,-92.1429 40,-83.3571 40,-74.5714 40,-65.7857 40,-57 40,-48.2143 40,-39.4286 40,-30.6429 40,-21.8571 40,-13.0714 40,-13 40,-13 40.125,-13 40.4018,-13 40.6786,-13 40.9554,-13 41.2321,-13 41.5089,-13 41.7857,-13 42.0625,-13 42.3393,-13 42.6161,-13 42.8929,-13 43.1696,-13 43.4464,-13 43.7232,-13 44,-13 44.2768,-13 44.5536,-13 44.8304,-13 45.1071,-13 45.3839,-13 45.6607,-13 45.9375,-13 46.2143,-13 46.4911,-13 46.7679,-13 47.0446,-13 47.3214,-13 47.5982,-13 47.875,-13 48.1518,-13 48.4286,-13 48.7054,-13 48.9821,-13 49.2589,-13 49.5357,-13 49.8125,-13 50.0893,-13 50.3661,-13 50.6429,-13 50.9196,-13 51.1964,-13 51.4732,-13 51.75,-13 52.0268,-13 52.3036,-13 52.5804,-13 52.8571,-13 53.1339,-13 53.4107,-13 53.6875,-13 53.9643,-13 54.2411,-13 54.5179,-13 54.7946,-13 55.0714,-13 55.3482,-13 55.625,-13 55.9018,-13 56.1786,-13 56.4554,-13 56.7321,-13 57.0089,-13 57.2857,-13 57.5625,-13 57.8393,-13 58.1161,-13 58.3929,-13 58.6696,-13 58.9464,-13 59.2232,-13 59.5,-13 59.7768,-13 60.0536,-13 60.3304,-13 60.6071,-13 60.8839,-13 61.1607,-13 61.4375,-13 61.7143,-13 61.9911,-13 62.2679,-13 62.5446,-13 62.8214,-13 63.0982,-13 63.375,-13 63.6518,-13 63.9286,-13 64.2054,-13 64.4821,-13 64.7589,-13 65.0357,-13 65.3125,-13 65.5893,-13 65.8661,-13 66.1429,-13 66.4196,-13 66.6964,-13 66.9732,-13 67.25,-13 67.5268,-13 67.8036,-13 68.0804,-13 68.3571,-13 68.6339,-13 68.9107,-13 69.1875,-13 69.4643,-13 69.7411,-13 70.0179,-13 70.2946,-13 70.5714,-13 70.8482,-13 71.125,-13 71.4018,-13 71.6786,-13 71.9554,-13 72.2321,-13 72.5089,-13 72.7857,-13 73.0625,-13 73.3393,-13 73.6161,-13 73.8929,-13 74.1696,-13 74.4464,-13 74.7232,-13 75,-13.0714 75,-21.8571 75,-30.6429 75,-39.4286 75,-48.2143 75,-57 75,-65.7857 75,-74.5714 75,-83.3571 75,-92.1429 75,-100.929 75,-109.714 75,-118.5 75,-127.286 75,-136.071 75,-144.857 75,-153.643 75,-162.429 75,-171.214 75,-180 75,-180 74.7232,-180 74.4464,-180 74.1696,-180 73.8929,-180 73.6161,-180 73.3393,-180 73.0625,-180 72.7857,-180 72.5089,-180 72.2321,-180 71.9554,-180 71.6786,-180 71.4018,-180 71.125,-180 70.8482,-180 70.5714,-180 70.2946,-180 70.0179,-180 69.7411,-180 69.4643,-180 69.1875,-180 68.9107,-180 68.6339,-180 68.3571,-180 68.0804,-180 67.8036,-180 67.5268,-180 67.25,-180 66.9732,-180 66.6964,-180 66.4196,-180 66.1429,-180 65.8661,-180 65.5893,-180 65.3125,-180 65.0357,-180 64.7589,-180 64.4821,-180 64.2054,-180 63.9286,-180 63.6518,-180 63.375,-180 63.0982,-180 62.8214,-180 62.5446,-180 62.2679,-180 61.9911,-180 61.7143,-180 61.4375,-180 61.1607,-180 60.8839,-180 60.6071,-180 60.3304,-180 60.0536,-180 59.7768,-180 59.5,-180 59.2232,-180 58.9464,-180 58.6696,-180 58.3929,-180 58.1161,-180 57.8393,-180 57.5625,-180 57.2857,-180 57.0089,-180 56.7321,-180 56.4554,-180 56.1786,-180 55.9018,-180 55.625,-180 55.3482,-180 55.0714,-180 54.7946,-180 54.5179,-180 54.2411,-180 53.9643,-180 53.6875,-180 53.4107,-180 53.1339,-180 52.8571,-180 52.5804,-180 52.3036,-180 52.0268,-180 51.75,-180 51.4732,-180 51.1964,-180 50.9196,-180 50.6429,-180 50.3661,-180 50.0893,-180 49.8125,-180 49.5357,-180 49.2589,-180 48.9821,-180 48.7054,-180 48.4286,-180 48.1518,-180 47.875,-180 47.5982,-180 47.3214,-180 47.0446,-180 46.7679,-180 46.4911,-180 46.2143,-180 45.9375,-180 45.6607,-180 45.3839,-180 45.1071,-180 44.8304,-180 44.5536,-180 44.2768,-180 44,-180 43.7232,-180 43.4464,-180 43.1696,-180 42.8929,-180 42.6161,-180 42.3393,-180 42.0625,-180 41.7857,-180 41.5089,-180 41.2321,-180 40.9554,-180 40.6786,-180 40.4018,-180 40.125,-180 40))', 'url': \"https://scihub.copernicus.eu/dhus/odata/v1/Products('963903f0-838a-4f8f-9f5a-f6edd6a6d1fe')/$value\", 'Online': True, 'Creation Date': datetime.datetime(2020, 5, 31, 13, 2, 31, 299000), 'Ingestion Date': datetime.datetime(2020, 5, 31, 13, 1, 36, 443000), 'path': './src/data/S3A_SY_2_VG1____20200529T160000_20200530T160000_20200531T121422_NORTH_AMERICA_____LN2_O_ST_002.zip', 'downloaded_bytes': 128067161})]), OrderedDict(), set())\n\n"
    }
   ],
   "source": [
    "# search by polygon, time, and Hub query keywords\n",
    "products_query = api.query(\n",
    "                    limit = 1,\n",
    "                    filename = 'S3A_*',\n",
    "                    producttype = 'SY_2_VG1___')\n",
    "\n",
    "os.makedirs(DOWNLOADED_DATA_PATH, exist_ok = True) \n",
    "products = api.download_all(products_query, DOWNLOADED_DATA_PATH)\n",
    "print(products)"
   ]
  },
  {
   "cell_type": "code",
   "execution_count": 3,
   "metadata": {},
   "outputs": [],
   "source": [
    "file_titles = []\n",
    "zip_files = []\n",
    "\n",
    "for product in products:\n",
    "    for product_id in product:\n",
    "        file_titles.append(product[product_id]['title'])\n",
    "        zip_files.append(product[product_id]['path'])\n",
    "\n",
    "        import zipfile\n",
    "        archive = zipfile.ZipFile(product[product_id]['path'], 'r')\n",
    "        archive.extractall(path=DOWNLOADED_DATA_PATH)\n",
    "\n",
    "for zip_file in zip_files:\n",
    "    if REMOVE_ZIPS:\n",
    "        os.remove(zip_file)    "
   ]
  },
  {
   "cell_type": "code",
   "execution_count": 4,
   "metadata": {},
   "outputs": [
    {
     "output_type": "stream",
     "name": "stdout",
     "text": "./src/data/S3A_SY_2_VG1____20200529T160000_20200530T160000_20200531T121422_NORTH_AMERICA_____LN2_O_ST_002.SEN3/B0.nc\nB0 (3921, 18705)\ncrs (1,)\nlat_bnds (3921, 2)\nlatitude (3921,)\nlon_bnds (18705, 2)\nlongitude (18705,)\n\n\n./src/data/S3A_SY_2_VG1____20200529T160000_20200530T160000_20200531T121422_NORTH_AMERICA_____LN2_O_ST_002.SEN3/B2.nc\nB2 (3921, 18705)\ncrs (1,)\nlat_bnds (3921, 2)\nlatitude (3921,)\nlon_bnds (18705, 2)\nlongitude (18705,)\n\n\n./src/data/S3A_SY_2_VG1____20200529T160000_20200530T160000_20200531T121422_NORTH_AMERICA_____LN2_O_ST_002.SEN3/B3.nc\nB3 (3921, 18705)\ncrs (1,)\nlat_bnds (3921, 2)\nlatitude (3921,)\nlon_bnds (18705, 2)\nlongitude (18705,)\n\n\n./src/data/S3A_SY_2_VG1____20200529T160000_20200530T160000_20200531T121422_NORTH_AMERICA_____LN2_O_ST_002.SEN3/MIR.nc\nMIR (3921, 18705)\ncrs (1,)\nlat_bnds (3921, 2)\nlatitude (3921,)\nlon_bnds (18705, 2)\nlongitude (18705,)\n\n\n./src/data/S3A_SY_2_VG1____20200529T160000_20200530T160000_20200531T121422_NORTH_AMERICA_____LN2_O_ST_002.SEN3/NDVI.nc\nNDVI (3921, 18705)\ncrs (1,)\nlat_bnds (3921, 2)\nlatitude (3921,)\nlon_bnds (18705, 2)\nlongitude (18705,)\n\n\n./src/data/S3A_SY_2_VG1____20200529T160000_20200530T160000_20200531T121422_NORTH_AMERICA_____LN2_O_ST_002.SEN3/ag.nc\nAG (3921, 18705)\ncrs (1,)\nlat_bnds (3921, 2)\nlatitude (3921,)\nlon_bnds (18705, 2)\nlongitude (18705,)\n\n\n./src/data/S3A_SY_2_VG1____20200529T160000_20200530T160000_20200531T121422_NORTH_AMERICA_____LN2_O_ST_002.SEN3/og.nc\nOG (3921, 18705)\ncrs (1,)\nlat_bnds (3921, 2)\nlatitude (3921,)\nlon_bnds (18705, 2)\nlongitude (18705,)\n\n\n./src/data/S3A_SY_2_VG1____20200529T160000_20200530T160000_20200531T121422_NORTH_AMERICA_____LN2_O_ST_002.SEN3/saa.nc\nSAA (3921, 18705)\ncrs (1,)\nlat_bnds (3921, 2)\nlatitude (3921,)\nlon_bnds (18705, 2)\nlongitude (18705,)\n\n\n./src/data/S3A_SY_2_VG1____20200529T160000_20200530T160000_20200531T121422_NORTH_AMERICA_____LN2_O_ST_002.SEN3/sm.nc\nSM (3921, 18705)\ncrs (1,)\nlat_bnds (3921, 2)\nlatitude (3921,)\nlon_bnds (18705, 2)\nlongitude (18705,)\n\n\n./src/data/S3A_SY_2_VG1____20200529T160000_20200530T160000_20200531T121422_NORTH_AMERICA_____LN2_O_ST_002.SEN3/sza.nc\nSZA (3921, 18705)\ncrs (1,)\nlat_bnds (3921, 2)\nlatitude (3921,)\nlon_bnds (18705, 2)\nlongitude (18705,)\n\n\n./src/data/S3A_SY_2_VG1____20200529T160000_20200530T160000_20200531T121422_NORTH_AMERICA_____LN2_O_ST_002.SEN3/tg.nc\nTG (3921, 18705)\ncrs (1,)\nlat_bnds (3921, 2)\nlatitude(3921,)\nlon_bnds (18705, 2)\nlongitude (18705,)\n\n\n./src/data/S3A_SY_2_VG1____20200529T160000_20200530T160000_20200531T121422_NORTH_AMERICA_____LN2_O_ST_002.SEN3/vaa.nc\nVAA (3921, 18705)\ncrs (1,)\nlat_bnds (3921, 2)\nlatitude (3921,)\nlon_bnds (18705, 2)\nlongitude (18705,)\n\n\n./src/data/S3A_SY_2_VG1____20200529T160000_20200530T160000_20200531T121422_NORTH_AMERICA_____LN2_O_ST_002.SEN3/vza.nc\nVZA (3921, 18705)\ncrs (1,)\nlat_bnds (3921, 2)\nlatitude (3921,)\nlon_bnds (18705, 2)\nlongitude (18705,)\n\n\n./src/data/S3A_SY_2_VG1____20200529T160000_20200530T160000_20200531T121422_NORTH_AMERICA_____LN2_O_ST_002.SEN3/wvg.nc\nWVG (3921, 18705)\ncrs (1,)\nlat_bnds (3921, 2)\nlatitude (3921,)\nlon_bnds (18705, 2)\nlongitude (18705,)\n\n\n"
    }
   ],
   "source": [
    "from netCDF4 import Dataset\n",
    "for file_title in file_titles:\n",
    "    data_path = os.path.join(DOWNLOADED_DATA_PATH, '{}.SEN3'.format(file_title))\n",
    "    for nc_file_name in sorted(os.listdir(data_path)):\n",
    "        if nc_file_name.endswith('.nc'):\n",
    "            nc_file_path =  os.path.join(data_path, nc_file_name)  \n",
    "            print(nc_file_path)\n",
    "            rootgrp = Dataset(nc_file_path, \"r\", format=\"NETCDF4\")\n",
    "\n",
    "            for i in rootgrp.variables:\n",
    "                print(i, rootgrp.variables[i].shape)\n",
    "\n",
    "            print('\\n')"
   ]
  },
  {
   "cell_type": "code",
   "execution_count": null,
   "metadata": {},
   "outputs": [],
   "source": []
  }
 ],
 "metadata": {
  "kernelspec": {
   "display_name": "Python 3",
   "language": "python",
   "name": "python3"
  },
  "language_info": {
   "codemirror_mode": {
    "name": "ipython",
    "version": 3
   },
   "file_extension": ".py",
   "mimetype": "text/x-python",
   "name": "python",
   "nbconvert_exporter": "python",
   "pygments_lexer": "ipython3",
   "version": "3.9.0-beta"
  }
 },
 "nbformat": 4,
 "nbformat_minor": 4
}