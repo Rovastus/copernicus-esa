{
 "cells": [
  {
   "cell_type": "code",
   "execution_count": 5,
   "metadata": {
    "tags": [
     "outputPrepend"
    ]
   },
   "outputs": [],
   "source": [
    "from src.sentinel_api import get_sentinel_api\n",
    "from src.constant import GEOJSON_PATH, DOWNLOADED_DATA_PATH, REMOVE_ZIPS\n",
    "import os\n",
    "\n",
    "# get api \n",
    "api = get_sentinel_api()"
   ]
  },
  {
   "cell_type": "code",
   "execution_count": 6,
   "metadata": {},
   "outputs": [
    {
     "output_type": "stream",
     "name": "stdout",
     "text": "(OrderedDict([('2c401755-fdf6-42a0-adcd-b408fab037e7', {'id': '2c401755-fdf6-42a0-adcd-b408fab037e7', 'title': 'S3A_SR_1_SRA____20200531T160322_20200531T161322_20200531T165955_0599_059_026______LN3_O_NR_003', 'size': 11140612, 'md5': '8D5F78DB436CD0366F22E5E9A2AF41BB', 'date': datetime.datetime(2020, 5, 31, 16, 3, 22, 316000), 'footprint': 'POLYGON((88.7389 3.2538,88.3222 5.12937,87.9038 7.00481,87.4832 8.88004,87.0596 10.755,86.6323 12.6295,86.2008 14.5034,85.7642 16.3768,85.3217 18.2495,84.8725 20.1213,84.4157 21.9922,83.9503 23.862,83.4752 25.7307,82.9893 27.5981,82.4911 29.4641,81.9794 31.3285,81.4525 33.1912,80.9085 35.0521,80.3455 36.9109,79.7612 38.7675,79.7589 38.767,80.3434 36.9105,80.9064 35.0517,81.4504 33.1908,81.9774 31.3281,82.4891 29.4637,82.9873 27.5977,83.4733 25.7303,83.9484 23.8616,84.4138 21.9918,84.8706 20.1209,85.3198 18.2491,85.7623 16.3764,86.199 14.503,86.6305 12.6291,87.0578 10.7546,87.4814 8.87965,87.9021 7.00442,88.3204 5.12898,88.7371 3.25341,88.7389 3.2538))', 'url': \"https://scihub.copernicus.eu/dhus/odata/v1/Products('2c401755-fdf6-42a0-adcd-b408fab037e7')/$value\", 'Online': True, 'Creation Date': datetime.datetime(2020, 5, 31, 17, 6, 7, 414000), 'Ingestion Date': datetime.datetime(2020, 5, 31, 17, 5, 32, 835000), 'path': './src/data/S3A_SR_1_SRA____20200531T160322_20200531T161322_20200531T165955_0599_059_026______LN3_O_NR_003.zip', 'downloaded_bytes': 0})]), OrderedDict(), set())\n"
    }
   ],
   "source": [
    "# search by polygon, time, and Hub query keywords\n",
    "products_query = api.query(\n",
    "                    limit = 1,\n",
    "                    filename = 'S3A_*',\n",
    "                    producttype = 'SR_1_SRA___')\n",
    "\n",
    "os.makedirs(DOWNLOADED_DATA_PATH, exist_ok = True) \n",
    "products = api.download_all(products_query, DOWNLOADED_DATA_PATH)\n",
    "print(products)"
   ]
  },
  {
   "cell_type": "code",
   "execution_count": 7,
   "metadata": {},
   "outputs": [],
   "source": [
    "file_titles = []\n",
    "zip_files = []\n",
    "\n",
    "for product in products:\n",
    "    for product_id in product:\n",
    "        file_titles.append(product[product_id]['title'])\n",
    "        zip_files.append(product[product_id]['path'])\n",
    "\n",
    "        import zipfile\n",
    "        archive = zipfile.ZipFile(product[product_id]['path'], 'r')\n",
    "        archive.extractall(path=DOWNLOADED_DATA_PATH)\n",
    "\n",
    "for zip_file in zip_files:\n",
    "    if REMOVE_ZIPS:\n",
    "        os.remove(zip_file)    "
   ]
  },
  {
   "cell_type": "code",
   "execution_count": 8,
   "metadata": {},
   "outputs": [
    {
     "output_type": "stream",
     "name": "stdout",
     "text": "./src/data/S3A_SR_1_SRA____20200531T160322_20200531T161322_20200531T165955_0599_059_026______LN3_O_NR_003.SEN3/measurement.nc\necho_sample_ind (128,)\nmax_multi_stack_ind (256,)\ntime_l1b_echo_lrm (0,)\nUTC_day_l1b_echo_lrm (0,)\nUTC_sec_l1b_echo_lrm (0,)\nGPS_time_l1b_echo_lrm (0,)\nisp_coarse_time_l1b_echo_lrm (0,)\nisp_fine_time_l1b_echo_lrm (0,)\nsral_fine_time_l1b_echo_lrm (0,)\nlat_l1b_echo_lrm (0,)\nlon_l1b_echo_lrm (0,)\nalt_l1b_echo_lrm (0,)\norb_alt_rate_l1b_echo_lrm (0,)\nflag_time_status_l1b_echo_lrm (0,)\nflag_time_corr_val_l1b_echo_lrm (0,)\nflag_man_pres_l1b_echo_lrm (0,)\nflag_man_thrust_l1b_echo_lrm (0,)\nflag_man_plane_l1b_echo_lrm (0,)\nflag_gnss_status_l1b_echo_lrm (0,)\nx_pos_l1b_echo_lrm (0,)\ny_pos_l1b_echo_lrm (0,)\nz_pos_l1b_echo_lrm (0,)\nx_vel_l1b_echo_lrm (0,)\ny_vel_l1b_echo_lrm (0,)\nz_vel_l1b_echo_lrm (0,)\nnav_bul_status_l1b_echo_lrm (0,)\nnav_bul_source_l1b_echo_lrm (0,)\nnav_bul_coarse_time_l1b_echo_lrm (0,)\nnav_bul_fine_time_l1b_echo_lrm (0,)\nseq_count_l1b_echo_lrm (0,)\nisp_time_status_l1b_echo_lrm (0,)\noper_instr_l1b_echo_lrm (0,)\nmode_id_l1b_echo_lrm (0,)\ncl_gain_l1b_echo_lrm (0,)\nacq_stat_l1b_echo_lrm (0,)\ndem_eeprom_l1b_echo_lrm (0,)\nweighting_l1b_echo_lrm (0,)\nloss_track_l1b_echo_lrm (0,)\nh0_nav_dem_l1b_echo_lrm (0,)\nh0_applied_l1b_echo_lrm (0,)\ncor2_nav_dem_l1b_echo_lrm (0,)\ncor2_applied_l1b_echo_lrm (0,)\ndh0_l1b_echo_lrm (0,)\nagccode_ku_l1b_echo_lrm (0,)\nagccode_c_l1b_echo_lrm (0,)\nsurf_type_l1b_echo_lrm (0,)\nrange_ku_l1b_echo_lrm (0,)\nrange_c_l1b_echo_lrm (0,)\nuso_cor_l1b_echo_lrm (0,)\nint_path_cor_ku_l1b_echo_lrm (0,)\nint_path_cor_c_l1b_echo_lrm (0,)\ndop_cor_ku_l1b_echo_lrm (0,)\ndop_cor_c_l1b_echo_lrm (0,)\nrange_rate_l1b_echo_lrm (0,)\nagc_ku_l1b_echo_lrm (0,)\nagc_c_l1b_echo_lrm (0,)\nscale_factor_ku_l1b_echo_lrm (0,)\nscale_factor_c_l1b_echo_lrm (0,)\nagc_cor_ku_l1b_echo_lrm (0,)\nagc_cor_c_l1b_echo_lrm (0,)\nsig0_cal_ku_l1b_echo_lrm (0,)\nsig0_cal_c_l1b_echo_lrm (0,)\ni2q2_meas_ku_l1b_echo_lrm (0, 128)\ni2q2_meas_c_l1b_echo_lrm (0, 128)\ntime_l1b_echo_sar_ku (12247,)\nUTC_day_l1b_echo_sar_ku (12247,)\nUTC_sec_l1b_echo_sar_ku (12247,)\nGPS_time_l1b_echo_sar_ku (12247,)\nisp_coarse_time_l1b_echo_sar_ku (12247,)\nisp_fine_time_l1b_echo_sar_ku (12247,)\nsral_fine_time_l1b_echo_sar_ku (12247,)\nlat_l1b_echo_sar_ku (12247,)\nlon_l1b_echo_sar_ku (12247,)\nalt_l1b_echo_sar_ku (12247,)\norb_alt_rate_l1b_echo_sar_ku (12247,)\nflag_time_status_l1b_echo_sar_ku (12247,)\nflag_time_corr_val_l1b_echo_sar_ku (12247,)\nflag_man_pres_l1b_echo_sar_ku (12247,)\nflag_man_thrust_l1b_echo_sar_ku (12247,)\nflag_man_plane_l1b_echo_sar_ku (12247,)\nflag_gnss_status_l1b_echo_sar_ku (12247,)\nx_pos_l1b_echo_sar_ku (12247,)\ny_pos_l1b_echo_sar_ku (12247,)\nz_pos_l1b_echo_sar_ku (12247,)\nx_vel_l1b_echo_sar_ku (12247,)\ny_vel_l1b_echo_sar_ku (12247,)\nz_vel_l1b_echo_sar_ku (12247,)\nnav_bul_status_l1b_echo_sar_ku (12247,)\nnav_bul_source_l1b_echo_sar_ku (12247,)\nnav_bul_coarse_time_l1b_echo_sar_ku (12247,)\nnav_bul_fine_time_l1b_echo_sar_ku (12247,)\nseq_count_l1b_echo_sar_ku (12247,)\nisp_time_status_l1b_echo_sar_ku (12247,)\noper_instr_l1b_echo_sar_ku (12247,)\nSAR_mode_l1b_echo_sar_ku (12247,)\ncl_gain_l1b_echo_sar_ku (12247,)\nacq_stat_l1b_echo_sar_ku (12247,)\ndem_eeprom_l1b_echo_sar_ku (12247,)\nweighting_l1b_echo_sar_ku (12247,)\nloss_track_l1b_echo_sar_ku (12247,)\nh0_nav_dem_l1b_echo_sar_ku (12247,)\nh0_applied_l1b_echo_sar_ku (12247,)\ncor2_nav_dem_l1b_echo_sar_ku (12247,)\ncor2_applied_l1b_echo_sar_ku (12247,)\ndh0_l1b_echo_sar_ku (12247,)\nagccode_ku_l1b_echo_sar_ku (12247,)\nsurf_type_l1b_echo_sar_ku (12247,)\nrange_ku_l1b_echo_sar_ku (12247,)\nuso_cor_l1b_echo_sar_ku (12247,)\nint_path_cor_ku_l1b_echo_sar_ku (12247,)\nrange_rate_l1b_echo_sar_ku (12247,)\nagc_ku_l1b_echo_sar_ku (12247,)\nscale_factor_ku_l1b_echo_sar_ku (12247,)\nagc_cor_ku_l1b_echo_sar_ku (12247,)\nsig0_cal_ku_l1b_echo_sar_ku (12247,)\nnb_stack_l1b_echo_sar_ku (12247,)\nmax_stack_l1b_echo_sar_ku (12247,)\nstdev_stack_l1b_echo_sar_ku (12247,)\nskew_stack_l1b_echo_sar_ku (12247,)\nkurt_stack_l1b_echo_sar_ku (12247,)\nbeam_ang_stack_l1b_echo_sar_ku (12247, 256)\nbeam_form_l1b_echo_sar_ku (12247,)\ni2q2_meas_ku_l1b_echo_sar_ku (12247, 128)\ntime_l1b_echo_plrm (11779,)\nUTC_day_l1b_echo_plrm (11779,)\nUTC_sec_l1b_echo_plrm (11779,)\nGPS_time_l1b_echo_plrm (11779,)\nisp_coarse_time_l1b_echo_plrm (11779,)\nisp_fine_time_l1b_echo_plrm (11779,)\nsral_fine_time_l1b_echo_plrm (11779,)\nlat_l1b_echo_plrm (11779,)\nlon_l1b_echo_plrm (11779,)\nalt_l1b_echo_plrm (11779,)\norb_alt_rate_l1b_echo_plrm (11779,)\nflag_time_status_l1b_echo_plrm (11779,)\nflag_time_corr_val_l1b_echo_plrm (11779,)\nflag_man_pres_l1b_echo_plrm (11779,)\nflag_man_thrust_l1b_echo_plrm (11779,)\nflag_man_plane_l1b_echo_plrm (11779,)\nflag_gnss_status_l1b_echo_plrm (11779,)\nx_pos_l1b_echo_plrm (11779,)\ny_pos_l1b_echo_plrm (11779,)\nz_pos_l1b_echo_plrm (11779,)\nx_vel_l1b_echo_plrm (11779,)\ny_vel_l1b_echo_plrm (11779,)\nz_vel_l1b_echo_plrm (11779,)\nnav_bul_status_l1b_echo_plrm (11779,)\nnav_bul_source_l1b_echo_plrm (11779,)\nnav_bul_coarse_time_l1b_echo_plrm (11779,)\nnav_bul_fine_time_l1b_echo_plrm (11779,)\nseq_count_l1b_echo_plrm (11779,)\nisp_time_status_l1b_echo_plrm (11779,)\noper_instr_l1b_echo_plrm (11779,)\nSAR_mode_l1b_echo_plrm (11779,)\ncl_gain_l1b_echo_plrm (11779,)\nacq_stat_l1b_echo_plrm (11779,)\ndem_eeprom_l1b_echo_plrm (11779,)\nweighting_l1b_echo_plrm (11779,)\nloss_track_l1b_echo_plrm (11779,)\nh0_nav_dem_l1b_echo_plrm (11779,)\nh0_applied_l1b_echo_plrm (11779,)\ncor2_nav_dem_l1b_echo_plrm (11779,)\ncor2_applied_l1b_echo_plrm (11779,)\ndh0_l1b_echo_plrm (11779,)\nagccode_ku_l1b_echo_plrm (11779,)\nagccode_c_l1b_echo_plrm (11779,)\nsurf_type_l1b_echo_plrm (11779,)\nrange_ku_l1b_echo_plrm (11779,)\nrange_c_l1b_echo_plrm (11779,)\nuso_cor_l1b_echo_plrm (11779,)\nint_path_cor_ku_l1b_echo_plrm (11779,)\nint_path_cor_c_l1b_echo_plrm (11779,)\ndop_cor_ku_l1b_echo_plrm (11779,)\ndop_cor_c_l1b_echo_plrm (11779,)\nrange_rate_l1b_echo_plrm (11779,)\nagc_ku_l1b_echo_plrm (11779,)\nagc_c_l1b_echo_plrm (11779,)\nscale_factor_ku_l1b_echo_plrm (11779,)\nscale_factor_c_l1b_echo_plrm (11779,)\nagc_cor_ku_l1b_echo_plrm (11779,)\nagc_cor_c_l1b_echo_plrm (11779,)\nsig0_cal_ku_l1b_echo_plrm (11779,)\nsig0_cal_c_l1b_echo_plrm (11779,)\ni2q2_meas_ku_l1b_echo_plrm (11779, 128)\ni2q2_meas_c_l1b_echo_plrm (11779, 128)\n\n\n"
    }
   ],
   "source": [
    "from netCDF4 import Dataset\n",
    "for file_title in file_titles:\n",
    "    data_path = os.path.join(DOWNLOADED_DATA_PATH, '{}.SEN3'.format(file_title))\n",
    "    for nc_file_name in sorted(os.listdir(data_path)):\n",
    "        if nc_file_name.endswith('.nc'):\n",
    "            nc_file_path =  os.path.join(data_path, nc_file_name)  \n",
    "            print(nc_file_path)\n",
    "            rootgrp = Dataset(nc_file_path, \"r\", format=\"NETCDF4\")\n",
    "\n",
    "            for i in rootgrp.variables:\n",
    "                print(i, rootgrp.variables[i].shape)\n",
    "\n",
    "            print('\\n')"
   ]
  },
  {
   "cell_type": "code",
   "execution_count": null,
   "metadata": {},
   "outputs": [],
   "source": []
  }
 ],
 "metadata": {
  "kernelspec": {
   "display_name": "Python 3",
   "language": "python",
   "name": "python3"
  },
  "language_info": {
   "codemirror_mode": {
    "name": "ipython",
    "version": 3
   },
   "file_extension": ".py",
   "mimetype": "text/x-python",
   "name": "python",
   "nbconvert_exporter": "python",
   "pygments_lexer": "ipython3",
   "version": "3.9.0-beta"
  }
 },
 "nbformat": 4,
 "nbformat_minor": 4
}