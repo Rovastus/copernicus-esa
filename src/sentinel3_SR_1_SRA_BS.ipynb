{
 "cells": [
  {
   "cell_type": "code",
   "execution_count": 1,
   "metadata": {
    "tags": [
     "outputPrepend"
    ]
   },
   "outputs": [],
   "source": [
    "from src.sentinel_api import get_sentinel_api\n",
    "from src.constant import GEOJSON_PATH, DOWNLOADED_DATA_PATH, REMOVE_ZIPS\n",
    "import os\n",
    "\n",
    "# get api \n",
    "api = get_sentinel_api()"
   ]
  },
  {
   "cell_type": "code",
   "execution_count": 2,
   "metadata": {},
   "outputs": [
    {
     "output_type": "stream",
     "name": "stderr",
     "text": "Downloading: 100%|██████████| 1.91G/1.91G [01:27<00:00, 21.9MB/s]\nMD5 checksumming: 100%|██████████| 1.91G/1.91G [01:24<00:00, 22.7MB/s](OrderedDict([('d0493009-8076-492d-8037-51691f7a23f5', {'id': 'd0493009-8076-492d-8037-51691f7a23f5', 'title': 'S3A_SR_1_SRA_BS_20200530T023525_20200530T032554_20200531T163339_3029_059_003______LN3_O_ST_003', 'size': 1909275872, 'md5': '6A5403127476B914608F4CA5EB909E54', 'date': datetime.datetime(2020, 5, 30, 2, 35, 24, 508000), 'footprint': 'POLYGON((22.3574 -81.4185,10.3658 -81.2699,-0.791505 -80.773,-10.5261 -79.9793,-18.6818 -78.9527,-25.3872 -77.7515,-30.8801 -76.4218,-35.4032 -74.9976,-39.1642 -73.5034,-42.3281 -71.9563,-45.0221 -70.3687,-47.343 -68.7497,-49.365 -67.1057,-51.1448 -65.4416,-52.7265 -63.7611,-54.1445 -62.0671,-55.426 -60.3618,-56.5927 -58.6468,-57.662 -56.9237,-58.6483 -55.1934,-59.5631 -53.4568,-60.4162 -51.7149,-61.2155 -49.968,-61.9679 -48.2168,-62.6791 -46.4617,-63.3539 -44.7031,-63.9966 -42.9413,-64.6108 -41.1765,-65.1995 -39.409,-65.7655 -37.639,-66.3113 -35.8667,-66.8388 -34.0922,-67.35 -32.3158,-67.8466 -30.5376,-68.33 -28.7576,-68.8015 -26.9761,-69.2624 -25.193,-69.7137 -23.4086,-70.1565 -21.623,-70.5917 -19.8361,-71.0201 -18.0482,-71.4425 -16.2593,-71.8596 -14.4695,-72.2722 -12.6789,-72.6808 -10.8876,-73.0861 -9.09567,-73.4887 -7.30316,-73.8891 -5.51019,-74.2879 -3.71684,-74.6856 -1.92318,-75.0828 -0.12931,-75.4799 1.6647,-75.8776 3.45876,-76.2763 5.25278,-76.6765 7.04669,-77.0789 8.8404,-77.484 10.6338,-77.8923 12.4269,-78.3046 14.2195,-78.7213 16.0115,-79.1433 17.8029,-79.5713 19.5936,-80.0059 21.3834,-80.4481 23.1724,-80.8989 24.9603,-81.3591 26.747,-81.8298 28.5326,-82.3124 30.3168,-82.808 32.0994,-83.3182 33.8805,-83.8447 35.6598,-84.3893 37.4372,-84.954 39.2125,-85.5414 40.9855,-86.154 42.756,-86.7951 44.5238,-87.4681 46.2885,-88.1774 48.0498,-88.9276 49.8074,-89.7246 51.5609,-90.5751 53.3097,-91.4871 55.0531,-92.4703 56.7905,-93.5362 58.521,-94.6991 60.2433,-95.9764 61.9563,-97.3898 63.658,-98.9664 65.3463,-100.741 67.0184,-102.756 68.6706,-105.07 70.298,-107.757 71.8941,-110.913 73.4498,-114.667 74.9529,-119.183 76.3859,-124.672 77.7245,-131.379 78.9345,-139.547 79.9693,-149.308 80.7699,-160.51 81.2717,-172.558 81.4221,-172.558 81.4204,-160.512 81.27,-149.312 80.7683,-139.552 79.9678,-131.385 78.9331,-124.678 77.7233,-119.189 76.3848,-114.672 74.9518,-110.919 73.4488,-107.762 71.8932,-105.075 70.2972,-102.761 68.6699,-100.745 67.0177,-98.9704 65.3456,-97.3936 63.6573,-95.98 61.9556,-94.7025 60.2428,-93.5395 58.5204,-92.4734 56.79,-91.4901 55.0526,-90.578 53.3092,-89.7274 51.5604,-88.9303 49.807,-88.1799 48.0493,-87.4706 46.288,-86.7975 44.5233,-86.1564 42.7556,-85.5437 40.9851,-84.9563 39.2121,-84.3915 37.4368,-83.8468 35.6594,-83.3203 33.8801,-82.8101 32.099,-82.3144 30.3163,-81.8318 28.5322,-81.361 26.7466,-80.9008 24.9599,-80.4501 23.172,-80.0078 21.383,-79.5731 19.5932,-79.1452 17.8025,-78.7232 16.0111,-78.3064 14.2191,-77.8941 12.4265,-77.4858 10.6334,-77.0807 8.84001,-76.6783 7.0463,-76.278 5.25239,-75.8793 3.45836,-75.4817 1.6643,-75.0845 -0.129703,-74.6873 -1.92358,-74.2896 -3.71723,-73.8908 -5.51059,-73.4904 -7.30356,-73.0879 -9.09606,-72.6826 -10.888,-72.274 -12.6793,-71.8614 -14.4699,-71.4443 -16.2597,-71.0219 -18.0486,-70.5936 -19.8365,-70.1584 -21.6234,-69.7156 -23.409,-69.2643 -25.1934,-68.8034 -26.9765,-68.3319 -28.758,-67.8486 -30.538,-67.3521 -32.3163,-66.8409 -34.0927,-66.3134 -35.8671,-65.7677 -37.6394,-65.2018 -39.4094,-64.6131 -41.1769,-63.999 -42.9417,-63.3564 -44.7036,-62.6816 -46.4622,-61.9705 -48.2173,-61.2182 -49.9685,-60.4189 -51.7154,-59.566 -53.4574,-58.6513 -55.1939,-57.6651 -56.9242,-56.5959 -58.6474,-55.4294 -60.3624,-54.1481 -62.0677,-52.7303 -63.7618,-51.1488 -65.4423,-49.3692 -67.1064,-47.3475 -68.7505,-45.0268 -70.3696,-42.3331 -71.9572,-39.1695 -73.5043,-35.4088 -74.9987,-30.8859 -76.4229,-25.3932 -77.7527,-18.6876 -78.9541,-10.5313 -79.9809,-0.795556 -80.7746,10.3637 -81.2717,22.3576 -81.4203,22.3574 -81.4185))', 'url': \"https://scihub.copernicus.eu/dhus/odata/v1/Products('d0493009-8076-492d-8037-51691f7a23f5')/$value\", 'Online': True, 'Creation Date': datetime.datetime(2020, 5, 31, 16, 58, 4, 248000), 'Ingestion Date': datetime.datetime(2020, 5, 31, 16, 57, 58, 510000), 'path': './src/data/S3A_SR_1_SRA_BS_20200530T023525_20200530T032554_20200531T163339_3029_059_003______LN3_O_ST_003.zip', 'downloaded_bytes': 1909275872})]), OrderedDict(), set())\n\n"
    }
   ],
   "source": [
    "# search by polygon, time, and Hub query keywords\n",
    "products_query = api.query(\n",
    "                    limit = 1,\n",
    "                    filename = 'S3A_*',\n",
    "                    producttype = 'SR_1_SRA_BS')\n",
    "\n",
    "os.makedirs(DOWNLOADED_DATA_PATH, exist_ok = True) \n",
    "products = api.download_all(products_query, DOWNLOADED_DATA_PATH)\n",
    "print(products)"
   ]
  },
  {
   "cell_type": "code",
   "execution_count": 3,
   "metadata": {},
   "outputs": [],
   "source": [
    "file_titles = []\n",
    "zip_files = []\n",
    "\n",
    "for product in products:\n",
    "    for product_id in product:\n",
    "        file_titles.append(product[product_id]['title'])\n",
    "        zip_files.append(product[product_id]['path'])\n",
    "\n",
    "        import zipfile\n",
    "        archive = zipfile.ZipFile(product[product_id]['path'], 'r')\n",
    "        archive.extractall(path=DOWNLOADED_DATA_PATH)\n",
    "\n",
    "for zip_file in zip_files:\n",
    "    if REMOVE_ZIPS:\n",
    "        os.remove(zip_file)    "
   ]
  },
  {
   "cell_type": "code",
   "execution_count": 4,
   "metadata": {},
   "outputs": [
    {
     "output_type": "stream",
     "name": "stdout",
     "text": "./src/data/S3A_SR_1_SRA_BS_20200530T023525_20200530T032554_20200531T163339_3029_059_003______LN3_O_ST_003.SEN3/measurement_l1bs.nc\necho_sample_ind (128,)\nmax_multi_stack_ind (256,)\ntime_l1bs_echo_sar_ku (60664,)\nUTC_day_l1bs_echo_sar_ku (60664,)\nUTC_sec_l1bs_echo_sar_ku (60664,)\nlat_l1bs_echo_sar_ku (60664,)\nlon_l1bs_echo_sar_ku (60664,)\nsurf_type_l1bs_echo_sar_ku (60664,)\nrecords_count_l1bs_echo_sar_ku (60664,)\nalt_l1bs_echo_sar_ku (60664,)\norb_alt_rate_l1bs_echo_sar_ku (60664,)\nx_pos_l1bs_echo_sar_ku (60664,)\ny_pos_l1bs_echo_sar_ku (60664,)\nz_pos_l1bs_echo_sar_ku (60664,)\nx_vel_l1bs_echo_sar_ku (60664,)\ny_vel_l1bs_echo_sar_ku (60664,)\nz_vel_l1bs_echo_sar_ku (60664,)\nmeas_x_pos_l1bs_echo_sar_ku (60664,)\nmeas_y_pos_l1bs_echo_sar_ku (60664,)\nmeas_z_pos_l1bs_echo_sar_ku (60664,)\nroll_sat_pointing_l1bs_echo_sar_ku (60664,)\npitch_sat_pointing_l1bs_echo_sar_ku (60664,)\nyaw_sat_pointing_l1bs_echo_sar_ku (60664,)\nroll_sral_mispointing_l1bs_echo_sar_ku (60664,)\npitch_sral_mispointing_l1bs_echo_sar_ku (60664,)\nyaw_sral_mispointing_l1bs_echo_sar_ku (60664,)\nrange_ku_l1bs_echo_sar_ku (60664,)\nint_path_cor_ku_l1bs_echo_sar_ku (60664,)\nuso_cor_l1bs_echo_sar_ku (60664,)\ncog_cor_l1bs_echo_sar_ku (60664,)\nagccode_ku_l1bs_echo_sar_ku (60664,)\nagc_ku_l1bs_echo_sar_ku (60664,)\nscale_factor_ku_l1bs_echo_sar_ku (60664,)\nsig0_cal_ku_l1bs_echo_sar_ku (60664,)\nsnr_ku_l1bs_echo_sar_ku (60664,)\ni2q2_meas_ku_l1bs_echo_sar_ku (60664, 128)\nnb_stack_l1bs_echo_sar_ku (60664,)\nmax_stack_l1bs_echo_sar_ku (60664,)\nmax_loc_stack_l1bs_echo_sar_ku (60664,)\nstdev_stack_l1bs_echo_sar_ku (60664,)\nskew_stack_l1bs_echo_sar_ku (60664,)\nkurt_stack_l1bs_echo_sar_ku (60664,)\nbeam_ang_stack_l1bs_echo_sar_ku (60664, 256)\nbeam_form_l1bs_echo_sar_ku (60664,)\nburst_start_ind_l1bs_echo_sar_ku (60664,)\nburst_stop_ind_l1bs_echo_sar_ku (60664,)\niq_scale_factor_l1bs_echo_sar_ku (60664, 256)\ni_echoes_ku_l1bs_echo_sar_ku (60664, 256, 128)\nq_echoes_ku_l1bs_echo_sar_ku (60664, 256, 128)\nstart_look_angle_stack_l1bs_echo_sar_ku (60664,)\nstop_look_angle_stack_l1bs_echo_sar_ku (60664,)\nstart_beam_ang_stack_l1bs_echo_sar_ku (60664,)\nstop_beam_ang_stack_l1bs_echo_sar_ku (60664,)\npower_var_stack_l1bs_echo_sar_ku (60664, 256)\ntime_l1bs_echo_plrm (59257,)\nUTC_day_l1bs_echo_plrm (59257,)\nUTC_sec_l1bs_echo_plrm (59257,)\nlat_l1bs_echo_plrm (59257,)\nlon_l1bs_echo_plrm (59257,)\nsurf_type_l1bs_echo_plrm (59257,)\nrecords_count_l1bs_echo_plrm (59257,)\nalt_l1bs_echo_plrm (59257,)\norb_alt_rate_l1bs_echo_plrm (59257,)\nroll_sat_pointing_l1bs_echo_plrm (59257,)\npitch_sat_pointing_l1bs_echo_plrm (59257,)\nyaw_sat_pointing_l1bs_echo_plrm (59257,)\nroll_sral_mispointing_l1bs_echo_plrm (59257,)\npitch_sral_mispointing_l1bs_echo_plrm (59257,)\nyaw_sral_mispointing_l1bs_echo_plrm (59257,)\nrange_ku_l1bs_echo_plrm (59257,)\nint_path_cor_ku_l1bs_echo_plrm (59257,)\nuso_cor_l1bs_echo_plrm (59257,)\ncog_cor_l1bs_echo_plrm (59257,)\nagc_ku_l1bs_echo_plrm (59257,)\nscale_factor_ku_l1bs_echo_plrm (59257,)\nsig0_cal_ku_l1bs_echo_plrm (59257,)\nsnr_ku_l1bs_echo_plrm (59257,)\nagc_c_l1bs_echo_plrm (59257,)\nscale_factor_c_l1bs_echo_plrm (59257,)\nsig0_cal_c_l1bs_echo_plrm (59257,)\nsnr_c_l1bs_echo_plrm (59257,)\ni2q2_meas_ku_l1bs_echo_plrm (59257, 128)\ni2q2_meas_c_l1bs_echo_plrm (59257, 128)\n\n\n"
    }
   ],
   "source": [
    "from netCDF4 import Dataset\n",
    "for file_title in file_titles:\n",
    "    data_path = os.path.join(DOWNLOADED_DATA_PATH, '{}.SEN3'.format(file_title))\n",
    "    for nc_file_name in sorted(os.listdir(data_path)):\n",
    "        if nc_file_name.endswith('.nc'):\n",
    "            nc_file_path =  os.path.join(data_path, nc_file_name)  \n",
    "            print(nc_file_path)\n",
    "            rootgrp = Dataset(nc_file_path, \"r\", format=\"NETCDF4\")\n",
    "\n",
    "            for i in rootgrp.variables:\n",
    "                print(i, rootgrp.variables[i].shape)\n",
    "\n",
    "            print('\\n')"
   ]
  },
  {
   "cell_type": "code",
   "execution_count": null,
   "metadata": {},
   "outputs": [],
   "source": []
  }
 ],
 "metadata": {
  "kernelspec": {
   "display_name": "Python 3",
   "language": "python",
   "name": "python3"
  },
  "language_info": {
   "codemirror_mode": {
    "name": "ipython",
    "version": 3
   },
   "file_extension": ".py",
   "mimetype": "text/x-python",
   "name": "python",
   "nbconvert_exporter": "python",
   "pygments_lexer": "ipython3",
   "version": "3.9.0-beta"
  }
 },
 "nbformat": 4,
 "nbformat_minor": 4
}