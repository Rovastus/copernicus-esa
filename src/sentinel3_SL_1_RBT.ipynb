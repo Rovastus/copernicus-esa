{
 "cells": [
  {
   "cell_type": "code",
   "execution_count": 1,
   "metadata": {
    "tags": [
     "outputPrepend"
    ]
   },
   "outputs": [],
   "source": [
    "from src.sentinel_api import get_sentinel_api\n",
    "from src.constant import GEOJSON_PATH, DOWNLOADED_DATA_PATH, REMOVE_ZIPS\n",
    "import os\n",
    "\n",
    "# get api \n",
    "api = get_sentinel_api()"
   ]
  },
  {
   "cell_type": "code",
   "execution_count": 2,
   "metadata": {},
   "outputs": [
    {
     "output_type": "stream",
     "name": "stdout",
     "text": "(OrderedDict([('99bf582f-ec68-4509-b142-b91368b8bc1d', {'id': '99bf582f-ec68-4509-b142-b91368b8bc1d', 'title': 'S3A_SL_1_RBT____20200530T130937_20200530T131237_20200531T181403_0180_059_010_0180_LN2_O_NT_004', 'size': 325768386, 'md5': '9AF6DDAFDFBD92E7F04958BE77C7B659', 'date': datetime.datetime(2020, 5, 30, 13, 9, 36, 802000), 'footprint': 'POLYGON((138.036 22.9962,137.547 22.9136,137.057 22.8361,136.567 22.7653,136.078 22.6784,135.586 22.608,135.103 22.5224,134.617 22.4346,134.123 22.3538,133.643 22.2622,133.156 22.1753,132.67 22.0891,132.181 21.9954,131.702 21.8995,131.224 21.8039,130.736 21.7092,130.252 21.6125,129.776 21.5144,129.297 21.4157,128.812 21.3151,128.341 21.2055,127.858 21.1019,127.383 20.9985,126.902 20.8911,126.424 20.7839,125.947 20.6771,125.479 20.5634,124.998 20.4533,124.532 20.3418,124.056 20.224,123.871 20.1786,124.574 17.5755,125.263 14.9253,125.931 12.2724,126.579 9.61735,126.756 9.65927,127.204 9.76628,127.66 9.86685,128.117 9.98002,128.565 10.0771,129.018 10.1878,129.473 10.2895,129.93 10.3909,130.383 10.4905,130.839 10.6001,131.289 10.6979,131.748 10.7975,132.202 10.8951,132.654 10.9919,133.113 11.0889,133.571 11.1942,134.022 11.2837,134.48 11.3806,134.941 11.4779,135.4 11.5685,135.853 11.6712,136.316 11.7571,136.77 11.8575,137.235 11.9417,137.69 12.0352,138.149 12.133,138.611 12.2135,139.07 12.2962,139.524 12.3841,139.991 12.4779,139.482 15.1186,138.986 17.7594,138.502 20.3999,138.036 22.9962))', 'url': \"https://scihub.copernicus.eu/dhus/odata/v1/Products('99bf582f-ec68-4509-b142-b91368b8bc1d')/$value\", 'Online': True, 'Creation Date': datetime.datetime(2020, 5, 31, 18, 31, 5, 238000), 'Ingestion Date': datetime.datetime(2020, 5, 31, 18, 30, 19, 761000), 'path': './src/data/S3A_SL_1_RBT____20200530T130937_20200530T131237_20200531T181403_0180_059_010_0180_LN2_O_NT_004.zip', 'downloaded_bytes': 0})]), OrderedDict(), set())\n"
    }
   ],
   "source": [
    "# search by polygon, time, and Hub query keywords\n",
    "products_query = api.query(\n",
    "                    limit = 1,\n",
    "                    filename = 'S3A_*',\n",
    "                    producttype = 'SL_1_RBT___')\n",
    "\n",
    "os.makedirs(DOWNLOADED_DATA_PATH, exist_ok = True) \n",
    "products = api.download_all(products_query, DOWNLOADED_DATA_PATH)\n",
    "print(products)"
   ]
  },
  {
   "cell_type": "code",
   "execution_count": 3,
   "metadata": {},
   "outputs": [],
   "source": [
    "file_titles = []\n",
    "zip_files = []\n",
    "\n",
    "for product in products:\n",
    "    for product_id in product:\n",
    "        file_titles.append(product[product_id]['title'])\n",
    "        zip_files.append(product[product_id]['path'])\n",
    "\n",
    "        import zipfile\n",
    "        archive = zipfile.ZipFile(product[product_id]['path'], 'r')\n",
    "        archive.extractall(path=DOWNLOADED_DATA_PATH)\n",
    "\n",
    "for zip_file in zip_files:\n",
    "    if REMOVE_ZIPS:\n",
    "        os.remove(zip_file)    "
   ]
  },
  {
   "cell_type": "code",
   "execution_count": 4,
   "metadata": {
    "tags": [
     "outputPrepend",
     "outputPrepend",
     "outputPrepend",
     "outputPrepend",
     "outputPrepend",
     "outputPrepend",
     "outputPrepend",
     "outputPrepend"
    ]
   },
   "outputs": [
    {
     "output_type": "stream",
     "name": "stdout",
     "text": "lity_in.nc\nS7_BB1_reference_1_in (1200,)\nS7_BB1_reference_2_in (1200,)\nS7_BB2_reference_1_in (1200,)\nS7_BB2_reference_2_in (1200,)\nS7_BBEU_5VRef_in (1200,)\nS7_BBEU_Bridge_Ref_in (1200,)\nS7_BBEU_ground_in (1200,)\nS7_FEE_offset_in (2, 1200)\nS7_FEE_oversampling_factor_in (1200,)\nS7_FEE_voltage_reference_in (1200,)\nS7_TAEO_5V_scale_in (1200,)\nS7_TAEO_MVPRTH_scale_in (1200,)\nS7_TAEO_PVPRTH_scale_in (1200,)\nS7_TAEO_VPRT_scale_in (1200,)\nS7_T_BB1_in (1200,)\nS7_T_BB2_in (1200,)\nS7_T_det_coarse_in (1200,)\nS7_T_detector_in (1200,)\nS7_VDG_in (1200,)\nS7_band_centre_in (2,)\nS7_bandwidth_in (2,)\nS7_cal_gain_in (2, 2, 1200)\nS7_cal_offset_in (2, 2, 1200)\nS7_dT_BB1_in (2, 2, 1200)\nS7_dT_BB2_in (2, 2, 1200)\nS7_du_int_Time_in (1,)\nS7_du_t_start_in (1,)\nS7_radiometric_uncertainty_in (2, 161)\nS7_scene_temperature_in (161,)\n\n\n./src/data/S3A_SL_1_RBT____20200530T130937_20200530T131237_20200531T181403_0180_059_010_0180_LN2_O_NT_004.SEN3/S7_quality_io.nc\nS7_BB1_reference_1_io (1200,)\nS7_BB1_reference_2_io (1200,)\nS7_BB2_reference_1_io (1200,)\nS7_BB2_reference_2_io (1200,)\nS7_BBEU_5VRef_io (1200,)\nS7_BBEU_Bridge_Ref_io (1200,)\nS7_BBEU_ground_io (1200,)\nS7_FEE_offset_io (2, 1200)\nS7_FEE_oversampling_factor_io (1200,)\nS7_FEE_voltage_reference_io (1200,)\nS7_TAEO_5V_scale_io (1200,)\nS7_TAEO_MVPRTH_scale_io (1200,)\nS7_TAEO_PVPRTH_scale_io (1200,)\nS7_TAEO_VPRT_scale_io (1200,)\nS7_T_BB1_io (1200,)\nS7_T_BB2_io (1200,)\nS7_T_det_coarse_io (1200,)\nS7_T_detector_io (1200,)\nS7_VDG_io (1200,)\nS7_band_centre_io (2,)\nS7_bandwidth_io (2,)\nS7_cal_gain_io (2, 2, 1200)\nS7_cal_offset_io (2, 2, 1200)\nS7_dT_BB1_io (2, 2, 1200)\nS7_dT_BB2_io (2, 2, 1200)\nS7_du_int_Time_io (1,)\nS7_du_t_start_io (1,)\nS7_radiometric_uncertainty_io (2, 161)\nS7_scene_temperature_io (161,)\n\n\n./src/data/S3A_SL_1_RBT____20200530T130937_20200530T131237_20200531T181403_0180_059_010_0180_LN2_O_NT_004.SEN3/S8_BT_in.nc\nS8_BT_in (1200, 1500)\nS8_BT_orphan_in (1200, 187)\nS8_exception_in (1200, 1500)\nS8_exception_orphan_in (1200, 187)\n\n\n./src/data/S3A_SL_1_RBT____20200530T130937_20200530T131237_20200531T181403_0180_059_010_0180_LN2_O_NT_004.SEN3/S8_BT_io.nc\nS8_BT_io (1200, 900)\nS8_BT_orphan_io (1200, 112)\nS8_exception_io (1200, 900)\nS8_exception_orphan_io (1200, 112)\n\n\n./src/data/S3A_SL_1_RBT____20200530T130937_20200530T131237_20200531T181403_0180_059_010_0180_LN2_O_NT_004.SEN3/S8_quality_in.nc\nS8_BB1_reference_1_in (1200,)\nS8_BB1_reference_2_in (1200,)\nS8_BB2_reference_1_in (1200,)\nS8_BB2_reference_2_in (1200,)\nS8_BBEU_5VRef_in (1200,)\nS8_BBEU_Bridge_Ref_in (1200,)\nS8_BBEU_ground_in (1200,)\nS8_FEE_offset_in (2, 1200)\nS8_FEE_oversampling_factor_in (1200,)\nS8_TAEO_5V_scale_in (1200,)\nS8_TAEO_MVPRTH_scale_in (1200,)\nS8_TAEO_PVPRTH_scale_in (1200,)\nS8_TAEO_VPRT_scale_in (1200,)\nS8_T_BB1_in (1200,)\nS8_T_BB2_in (1200,)\nS8_T_det_coarse_in (1200,)\nS8_T_detector_in (1200,)\nS8_V_Bias_in (1200,)\nS8_band_centre_in (2,)\nS8_bandwidth_in (2,)\nS8_cal_gain_in (2, 2, 1200)\nS8_cal_offset_in (2, 2, 1200)\nS8_dT_BB1_in (2, 2, 1200)\nS8_dT_BB2_in (2, 2, 1200)\nS8_du_int_Time_in (1,)\nS8_du_t_start_in (1,)\nS8_radiometric_uncertainty_in (2, 301)\nS8_scene_temperature_in (301,)\n\n\n./src/data/S3A_SL_1_RBT____20200530T130937_20200530T131237_20200531T181403_0180_059_010_0180_LN2_O_NT_004.SEN3/S8_quality_io.nc\nS8_BB1_reference_1_io (1200,)\nS8_BB1_reference_2_io (1200,)\nS8_BB2_reference_1_io (1200,)\nS8_BB2_reference_2_io (1200,)\nS8_BBEU_5VRef_io (1200,)\nS8_BBEU_Bridge_Ref_io (1200,)\nS8_BBEU_ground_io (1200,)\nS8_FEE_offset_io (2, 1200)\nS8_FEE_oversampling_factor_io (1200,)\nS8_TAEO_5V_scale_io (1200,)\nS8_TAEO_MVPRTH_scale_io (1200,)\nS8_TAEO_PVPRTH_scale_io (1200,)\nS8_TAEO_VPRT_scale_io (1200,)\nS8_T_BB1_io (1200,)\nS8_T_BB2_io (1200,)\nS8_T_det_coarse_io (1200,)\nS8_T_detector_io (1200,)\nS8_V_Bias_io (1200,)\nS8_band_centre_io (2,)\nS8_bandwidth_io (2,)\nS8_cal_gain_io (2, 2, 1200)\nS8_cal_offset_io (2, 2, 1200)\nS8_dT_BB1_io (2, 2, 1200)\nS8_dT_BB2_io (2, 2, 1200)\nS8_du_int_Time_io (1,)\nS8_du_t_start_io (1,)\nS8_radiometric_uncertainty_io (2, 301)\nS8_scene_temperature_io (301,)\n\n\n./src/data/S3A_SL_1_RBT____20200530T130937_20200530T131237_20200531T181403_0180_059_010_0180_LN2_O_NT_004.SEN3/S9_BT_in.nc\nS9_BT_in (1200, 1500)\nS9_BT_orphan_in (1200, 187)\nS9_exception_in (1200, 1500)\nS9_exception_orphan_in (1200, 187)\n\n\n./src/data/S3A_SL_1_RBT____20200530T130937_20200530T131237_20200531T181403_0180_059_010_0180_LN2_O_NT_004.SEN3/S9_BT_io.nc\nS9_BT_io (1200, 900)\nS9_BT_orphan_io (1200, 112)\nS9_exception_io (1200, 900)\nS9_exception_orphan_io (1200, 112)\n\n\n./src/data/S3A_SL_1_RBT____20200530T130937_20200530T131237_20200531T181403_0180_059_010_0180_LN2_O_NT_004.SEN3/S9_quality_in.nc\nS9_BB1_reference_1_in (1200,)\nS9_BB1_reference_2_in (1200,)\nS9_BB2_reference_1_in (1200,)\nS9_BB2_reference_2_in (1200,)\nS9_BBEU_5VRef_in (1200,)\nS9_BBEU_Bridge_Ref_in (1200,)\nS9_BBEU_ground_in (1200,)\nS9_FEE_offset_in (2, 1200)\nS9_FEE_oversampling_factor_in (1200,)\nS9_TAEO_5V_scale_in (1200,)\nS9_TAEO_MVPRTH_scale_in (1200,)\nS9_TAEO_PVPRTH_scale_in (1200,)\nS9_TAEO_VPRT_scale_in (1200,)\nS9_T_BB1_in (1200,)\nS9_T_BB2_in (1200,)\nS9_T_det_coarse_in (1200,)\nS9_T_detector_in (1200,)\nS9_V_Bias_in (1200,)\nS9_band_centre_in (2,)\nS9_bandwidth_in (2,)\nS9_cal_gain_in (2, 2, 1200)\nS9_cal_offset_in (2, 2, 1200)\nS9_dT_BB1_in (2, 2, 1200)\nS9_dT_BB2_in (2, 2, 1200)\nS9_du_int_Time_in (1,)\nS9_du_t_start_in (1,)\nS9_radiometric_uncertainty_in (2, 301)\nS9_scene_temperature_in (301,)\n\n\n./src/data/S3A_SL_1_RBT____20200530T130937_20200530T131237_20200531T181403_0180_059_010_0180_LN2_O_NT_004.SEN3/S9_quality_io.nc\nS9_BB1_reference_1_io (1200,)\nS9_BB1_reference_2_io (1200,)\nS9_BB2_reference_1_io (1200,)\nS9_BB2_reference_2_io (1200,)\nS9_BBEU_5VRef_io (1200,)\nS9_BBEU_Bridge_Ref_io (1200,)\nS9_BBEU_ground_io (1200,)\nS9_FEE_offset_io (2, 1200)\nS9_FEE_oversampling_factor_io (1200,)\nS9_TAEO_5V_scale_io (1200,)\nS9_TAEO_MVPRTH_scale_io (1200,)\nS9_TAEO_PVPRTH_scale_io (1200,)\nS9_TAEO_VPRT_scale_io (1200,)\nS9_T_BB1_io (1200,)\nS9_T_BB2_io (1200,)\nS9_T_det_coarse_io (1200,)\nS9_T_detector_io (1200,)\nS9_V_Bias_io (1200,)\nS9_band_centre_io (2,)\nS9_bandwidth_io (2,)\nS9_cal_gain_io (2, 2, 1200)\nS9_cal_offset_io (2, 2, 1200)\nS9_dT_BB1_io (2, 2, 1200)\nS9_dT_BB2_io (2, 2, 1200)\nS9_du_int_Time_io (1,)\nS9_du_t_start_io (1,)\nS9_radiometric_uncertainty_io (2, 301)\nS9_scene_temperature_io (301,)\n\n\n./src/data/S3A_SL_1_RBT____20200530T130937_20200530T131237_20200531T181403_0180_059_010_0180_LN2_O_NT_004.SEN3/cartesian_an.nc\nx_an (2400, 3000)\nx_orphan_an (2400, 374)\ny_an (2400, 3000)\ny_orphan_an (2400, 374)\n\n\n./src/data/S3A_SL_1_RBT____20200530T130937_20200530T131237_20200531T181403_0180_059_010_0180_LN2_O_NT_004.SEN3/cartesian_ao.nc\nx_ao (2400, 1800)\nx_orphan_ao (2400, 224)\ny_ao (2400, 1800)\ny_orphan_ao (2400, 224)\n\n\n./src/data/S3A_SL_1_RBT____20200530T130937_20200530T131237_20200531T181403_0180_059_010_0180_LN2_O_NT_004.SEN3/cartesian_bn.nc\nx_bn (2400, 3000)\nx_orphan_bn (2400, 374)\ny_bn (2400, 3000)\ny_orphan_bn (2400, 374)\n\n\n./src/data/S3A_SL_1_RBT____20200530T130937_20200530T131237_20200531T181403_0180_059_010_0180_LN2_O_NT_004.SEN3/cartesian_bo.nc\nx_bo (2400, 1800)\nx_orphan_bo (2400, 224)\ny_bo (2400, 1800)\ny_orphan_bo (2400, 224)\n\n\n./src/data/S3A_SL_1_RBT____20200530T130937_20200530T131237_20200531T181403_0180_059_010_0180_LN2_O_NT_004.SEN3/cartesian_fn.nc\nx_fn (1200, 1500)\nx_orphan_fn (1200, 187)\ny_fn (1200, 1500)\ny_orphan_fn (1200, 187)\n\n\n./src/data/S3A_SL_1_RBT____20200530T130937_20200530T131237_20200531T181403_0180_059_010_0180_LN2_O_NT_004.SEN3/cartesian_fo.nc\nx_fo (1200, 900)\nx_orphan_fo (1200, 112)\ny_fo (1200, 900)\ny_orphan_fo (1200, 112)\n\n\n./src/data/S3A_SL_1_RBT____20200530T130937_20200530T131237_20200531T181403_0180_059_010_0180_LN2_O_NT_004.SEN3/cartesian_in.nc\nx_in (1200, 1500)\nx_orphan_in (1200, 187)\ny_in (1200, 1500)\ny_orphan_in (1200, 187)\n\n\n./src/data/S3A_SL_1_RBT____20200530T130937_20200530T131237_20200531T181403_0180_059_010_0180_LN2_O_NT_004.SEN3/cartesian_io.nc\nx_io (1200, 900)\nx_orphan_io (1200, 112)\ny_io (1200, 900)\ny_orphan_io (1200, 112)\n\n\n./src/data/S3A_SL_1_RBT____20200530T130937_20200530T131237_20200531T181403_0180_059_010_0180_LN2_O_NT_004.SEN3/cartesian_tx.nc\nx_tx (1200, 130)\ny_tx (1200, 130)\n\n\n./src/data/S3A_SL_1_RBT____20200530T130937_20200530T131237_20200531T181403_0180_059_010_0180_LN2_O_NT_004.SEN3/flags_an.nc\nbayes_an (2400, 3000)\nbayes_orphan_an (2400, 3000)\ncloud_an (2400, 3000)\ncloud_orphan_an (2400, 374)\nconfidence_an (2400, 3000)\nconfidence_orphan_an (2400, 374)\npointing_an (2400, 3000)\npointing_orphan_an (2400, 374)\n\n\n./src/data/S3A_SL_1_RBT____20200530T130937_20200530T131237_20200531T181403_0180_059_010_0180_LN2_O_NT_004.SEN3/flags_ao.nc\nbayes_ao (2400, 1800)\nbayes_orphan_ao (2400, 1800)\ncloud_ao (2400, 1800)\ncloud_orphan_ao (2400, 224)\nconfidence_ao (2400, 1800)\nconfidence_orphan_ao (2400, 224)\npointing_ao (2400, 1800)\npointing_orphan_ao (2400, 224)\n\n\n./src/data/S3A_SL_1_RBT____20200530T130937_20200530T131237_20200531T181403_0180_059_010_0180_LN2_O_NT_004.SEN3/flags_bn.nc\nbayes_bn (2400, 3000)\nbayes_orphan_bn (2400, 3000)\ncloud_bn (2400, 3000)\ncloud_orphan_bn (2400, 374)\nconfidence_bn (2400, 3000)\nconfidence_orphan_bn (2400, 374)\npointing_bn (2400, 3000)\npointing_orphan_bn (2400, 374)\n\n\n./src/data/S3A_SL_1_RBT____20200530T130937_20200530T131237_20200531T181403_0180_059_010_0180_LN2_O_NT_004.SEN3/flags_bo.nc\nbayes_bo (2400, 1800)\nbayes_orphan_bo (2400, 1800)\ncloud_bo (2400, 1800)\ncloud_orphan_bo (2400, 224)\nconfidence_bo (2400, 1800)\nconfidence_orphan_bo (2400, 224)\npointing_bo (2400, 1800)\npointing_orphan_bo (2400, 224)\n\n\n./src/data/S3A_SL_1_RBT____20200530T130937_20200530T131237_20200531T181403_0180_059_010_0180_LN2_O_NT_004.SEN3/flags_fn.nc\nbayes_fn (1200, 1500)\nbayes_orphan_fn (1200, 1500)\ncloud_fn (1200, 1500)\ncloud_orphan_fn (1200, 187)\nconfidence_fn (1200, 1500)\nconfidence_orphan_fn (1200, 187)\npointing_fn (1200, 1500)\npointing_orphan_fn (1200, 187)\n\n\n./src/data/S3A_SL_1_RBT____20200530T130937_20200530T131237_20200531T181403_0180_059_010_0180_LN2_O_NT_004.SEN3/flags_fo.nc\nbayes_fo (1200, 900)\nbayes_orphan_fo (1200, 900)\ncloud_fo (1200, 900)\ncloud_orphan_fo (1200, 112)\nconfidence_fo (1200, 900)\nconfidence_orphan_fo (1200, 112)\npointing_fo (1200, 900)\npointing_orphan_fo (1200, 112)\n\n\n./src/data/S3A_SL_1_RBT____20200530T130937_20200530T131237_20200531T181403_0180_059_010_0180_LN2_O_NT_004.SEN3/flags_in.nc\nbayes_in (1200, 1500)\nbayes_orphan_in (1200, 1500)\ncloud_in (1200, 1500)\ncloud_orphan_in (1200, 187)\nconfidence_in (1200, 1500)\nconfidence_orphan_in (1200, 187)\npointing_in (1200, 1500)\npointing_orphan_in (1200, 187)\nprobability_cloud_dual_in (1200, 1500)\nprobability_cloud_single_in (1200, 1500)\n\n\n./src/data/S3A_SL_1_RBT____20200530T130937_20200530T131237_20200531T181403_0180_059_010_0180_LN2_O_NT_004.SEN3/flags_io.nc\nbayes_io (1200, 900)\nbayes_orphan_io (1200, 900)\ncloud_io (1200, 900)\ncloud_orphan_io (1200, 112)\nconfidence_io (1200, 900)\nconfidence_orphan_io (1200, 112)\npointing_io (1200, 900)\npointing_orphan_io (1200, 112)\nprobability_cloud_dual_io (1200, 900)\nprobability_cloud_single_io (1200, 900)\n\n\n./src/data/S3A_SL_1_RBT____20200530T130937_20200530T131237_20200531T181403_0180_059_010_0180_LN2_O_NT_004.SEN3/geodetic_an.nc\nelevation_an (2400, 3000)\nelevation_orphan_an (2400, 374)\nlatitude_an (2400, 3000)\nlatitude_orphan_an (2400, 374)\nlongitude_an (2400, 3000)\nlongitude_orphan_an (2400, 374)\n\n\n./src/data/S3A_SL_1_RBT____20200530T130937_20200530T131237_20200531T181403_0180_059_010_0180_LN2_O_NT_004.SEN3/geodetic_ao.nc\nelevation_ao (2400, 1800)\nelevation_orphan_ao (2400, 224)\nlatitude_ao (2400, 1800)\nlatitude_orphan_ao (2400, 224)\nlongitude_ao (2400, 1800)\nlongitude_orphan_ao (2400, 224)\n\n\n./src/data/S3A_SL_1_RBT____20200530T130937_20200530T131237_20200531T181403_0180_059_010_0180_LN2_O_NT_004.SEN3/geodetic_bn.nc\nelevation_bn (2400, 3000)\nelevation_orphan_bn (2400, 374)\nlatitude_bn (2400, 3000)\nlatitude_orphan_bn (2400, 374)\nlongitude_bn (2400, 3000)\nlongitude_orphan_bn (2400, 374)\n\n\n./src/data/S3A_SL_1_RBT____20200530T130937_20200530T131237_20200531T181403_0180_059_010_0180_LN2_O_NT_004.SEN3/geodetic_bo.nc\nelevation_bo (2400, 1800)\nelevation_orphan_bo (2400, 224)\nlatitude_bo (2400, 1800)\nlatitude_orphan_bo (2400, 224)\nlongitude_bo (2400, 1800)\nlongitude_orphan_bo (2400, 224)\n\n\n./src/data/S3A_SL_1_RBT____20200530T130937_20200530T131237_20200531T181403_0180_059_010_0180_LN2_O_NT_004.SEN3/geodetic_fn.nc\nelevation_fn (1200, 1500)\nelevation_orphan_fn (1200, 187)\nlatitude_fn (1200, 1500)\nlatitude_orphan_fn (1200, 187)\nlongitude_fn (1200, 1500)\nlongitude_orphan_fn (1200, 187)\n\n\n./src/data/S3A_SL_1_RBT____20200530T130937_20200530T131237_20200531T181403_0180_059_010_0180_LN2_O_NT_004.SEN3/geodetic_fo.nc\nelevation_fo(1200, 900)\nelevation_orphan_fo (1200, 112)\nlatitude_fo (1200, 900)\nlatitude_orphan_fo (1200, 112)\nlongitude_fo (1200, 900)\nlongitude_orphan_fo (1200, 112)\n\n\n./src/data/S3A_SL_1_RBT____20200530T130937_20200530T131237_20200531T181403_0180_059_010_0180_LN2_O_NT_004.SEN3/geodetic_in.nc\nelevation_in (1200, 1500)\nelevation_orphan_in (1200, 187)\nlatitude_in (1200, 1500)\nlatitude_orphan_in (1200, 187)\nlongitude_in (1200, 1500)\nlongitude_orphan_in (1200, 187)\n\n\n./src/data/S3A_SL_1_RBT____20200530T130937_20200530T131237_20200531T181403_0180_059_010_0180_LN2_O_NT_004.SEN3/geodetic_io.nc\nelevation_io (1200, 900)\nelevation_orphan_io (1200, 112)\nlatitude_io (1200, 900)\nlatitude_orphan_io (1200, 112)\nlongitude_io (1200, 900)\nlongitude_orphan_io (1200, 112)\n\n\n./src/data/S3A_SL_1_RBT____20200530T130937_20200530T131237_20200531T181403_0180_059_010_0180_LN2_O_NT_004.SEN3/geodetic_tx.nc\nlatitude_tx (1200, 130)\nlongitude_tx (1200, 130)\n\n\n./src/data/S3A_SL_1_RBT____20200530T130937_20200530T131237_20200531T181403_0180_059_010_0180_LN2_O_NT_004.SEN3/geometry_tn.nc\nsat_azimuth_tn (1200, 130)\nsat_path_tn (1200, 130)\nsat_zenith_tn (1200, 130)\nsolar_azimuth_tn (1200, 130)\nsolar_path_tn (1200, 130)\nsolar_zenith_tn (1200, 130)\n\n\n./src/data/S3A_SL_1_RBT____20200530T130937_20200530T131237_20200531T181403_0180_059_010_0180_LN2_O_NT_004.SEN3/geometry_to.nc\nsat_azimuth_to (1200, 130)\nsat_path_to (1200, 130)\nsat_zenith_to (1200, 130)\nsolar_azimuth_to (1200, 130)\nsolar_path_to (1200, 130)\nsolar_zenith_to (1200, 130)\n\n\n./src/data/S3A_SL_1_RBT____20200530T130937_20200530T131237_20200531T181403_0180_059_010_0180_LN2_O_NT_004.SEN3/indices_an.nc\ndetector_an (2400, 3000)\ndetector_orphan_an (2400, 374)\nl0_scan_offset_an (1,)\npixel_an (2400, 3000)\npixel_orphan_an (2400, 374)\nscan_an (2400, 3000)\nscan_orphan_an (2400, 374)\n\n\n./src/data/S3A_SL_1_RBT____20200530T130937_20200530T131237_20200531T181403_0180_059_010_0180_LN2_O_NT_004.SEN3/indices_ao.nc\ndetector_ao (2400, 1800)\ndetector_orphan_ao (2400, 224)\nl0_scan_offset_ao (1,)\npixel_ao (2400, 1800)\npixel_orphan_ao (2400, 224)\nscan_ao (2400, 1800)\nscan_orphan_ao (2400, 224)\n\n\n./src/data/S3A_SL_1_RBT____20200530T130937_20200530T131237_20200531T181403_0180_059_010_0180_LN2_O_NT_004.SEN3/indices_bn.nc\ndetector_bn (2400, 3000)\ndetector_orphan_bn (2400, 374)\nl0_scan_offset_bn (1,)\npixel_bn (2400, 3000)\npixel_orphan_bn (2400, 374)\nscan_bn (2400, 3000)\nscan_orphan_bn (2400, 374)\n\n\n./src/data/S3A_SL_1_RBT____20200530T130937_20200530T131237_20200531T181403_0180_059_010_0180_LN2_O_NT_004.SEN3/indices_bo.nc\ndetector_bo (2400, 1800)\ndetector_orphan_bo (2400, 224)\nl0_scan_offset_bo (1,)\npixel_bo (2400, 1800)\npixel_orphan_bo (2400, 224)\nscan_bo (2400, 1800)\nscan_orphan_bo (2400, 224)\n\n\n./src/data/S3A_SL_1_RBT____20200530T130937_20200530T131237_20200531T181403_0180_059_010_0180_LN2_O_NT_004.SEN3/indices_fn.nc\ndetector_fn (1200, 1500)\ndetector_orphan_fn (1200, 187)\nl0_scan_offset_fn (1,)\npixel_fn (1200, 1500)\npixel_orphan_fn (1200, 187)\nscan_fn (1200, 1500)\nscan_orphan_fn (1200, 187)\n\n\n./src/data/S3A_SL_1_RBT____20200530T130937_20200530T131237_20200531T181403_0180_059_010_0180_LN2_O_NT_004.SEN3/indices_fo.nc\ndetector_fo (1200, 900)\ndetector_orphan_fo (1200, 112)\nl0_scan_offset_fo (1,)\npixel_fo (1200, 900)\npixel_orphan_fo (1200, 112)\nscan_fo (1200, 900)\nscan_orphan_fo (1200, 112)\n\n\n./src/data/S3A_SL_1_RBT____20200530T130937_20200530T131237_20200531T181403_0180_059_010_0180_LN2_O_NT_004.SEN3/indices_in.nc\ndetector_in (1200, 1500)\ndetector_orphan_in (1200, 187)\nl0_scan_offset_in (1,)\npixel_in (1200, 1500)\npixel_orphan_in (1200, 187)\nscan_in (1200, 1500)\nscan_orphan_in (1200, 187)\n\n\n./src/data/S3A_SL_1_RBT____20200530T130937_20200530T131237_20200531T181403_0180_059_010_0180_LN2_O_NT_004.SEN3/indices_io.nc\ndetector_io (1200, 900)\ndetector_orphan_io (1200, 112)\nl0_scan_offset_io (1,)\npixel_io (1200, 900)\npixel_orphan_io (1200, 112)\nscan_io (1200, 900)\nscan_orphan_io (1200, 112)\n\n\n./src/data/S3A_SL_1_RBT____20200530T130937_20200530T131237_20200531T181403_0180_059_010_0180_LN2_O_NT_004.SEN3/met_tx.nc\ncloud_fraction_tx (1, 1200, 130)\ndew_point_tx (1, 1, 1200, 130)\neast_west_stress_tx (5, 1200, 130)\nlatent_heat_tx (5, 1200, 130)\nnorth_south_stress_tx (5, 1200, 130)\np_atmos (25,)\nsea_ice_fraction_tx (1, 1200, 130)\nsea_surface_temperature_tx (1, 1200, 130)\nsensible_heat_tx (5, 1200, 130)\nskin_temperature_tx (1, 1200, 130)\nsnow_albedo_tx (1, 1200, 130)\nsnow_depth_tx (1, 1200, 130)\nsoil_wetness_tx (1, 1200, 130)\nsolar_radiation_tx (5, 1200, 130)\nspecific_humidity_tx (1, 25, 1200, 130)\nsurface_pressure_tx (1, 1200, 130)\nt_bound (5, 2)\nt_forecast ()\nt_series (5,)\nt_single (1,)\ntemperature_profile_tx (1, 25, 1200, 130)\ntemperature_tx (1, 1, 1200, 130)\nthermal_radiation_tx (5, 1200, 130)\ntotal_column_ozone_tx (1, 1200, 130)\ntotal_column_water_vapour_tx (1, 1200, 130)\nu_wind_tx (5, 1, 1200, 130)\nv_wind_tx (5, 1, 1200, 130)\nz_atmos (1,)\nz_bound (1, 2)\nz_soil (1,)\nz_wind (1,)\n\n\n./src/data/S3A_SL_1_RBT____20200530T130937_20200530T131237_20200531T181403_0180_059_010_0180_LN2_O_NT_004.SEN3/time_an.nc\nNADIR_FIRST_PIXEL_a (1,)\nNadir_First_scan_a (2400,)\nNadir_Last_scan_a (2400,)\nNadir_Maximal_ts_a (2400,)\nNadir_Minimal_ts_a (2400,)\nOBLIQUE_FIRST_PIXEL_a (1,)\nOblique_First_scan_a (2400,)\nOblique_Last_scan_a (2400,)\nOblique_Maximal_ts_a (2400,)\nOblique_Minimal_ts_a (2400,)\nPIXSYNC_a (1,)\nSCANSYNC (1,)\ntime_stamp_a (2400,)\n\n\n./src/data/S3A_SL_1_RBT____20200530T130937_20200530T131237_20200531T181403_0180_059_010_0180_LN2_O_NT_004.SEN3/time_bn.nc\nNADIR_FIRST_PIXEL_b (1,)\nNadir_First_scan_b (2400,)\nNadir_Last_scan_b (2400,)\nNadir_Maximal_ts_b (2400,)\nNadir_Minimal_ts_b (2400,)\nOBLIQUE_FIRST_PIXEL_b (1,)\nOblique_First_scan_b (2400,)\nOblique_Last_scan_b (2400,)\nOblique_Maximal_ts_b (2400,)\nOblique_Minimal_ts_b (2400,)\nPIXSYNC_b (1,)\nSCANSYNC (1,)\ntime_stamp_b (2400,)\n\n\n./src/data/S3A_SL_1_RBT____20200530T130937_20200530T131237_20200531T181403_0180_059_010_0180_LN2_O_NT_004.SEN3/time_in.nc\nNADIR_FIRST_PIXEL_i (1,)\nNadir_First_scan_i (1200,)\nNadir_Last_scan_i (1200,)\nNadir_Maximal_ts_i (1200,)\nNadir_Minimal_ts_i (1200,)\nOBLIQUE_FIRST_PIXEL_i (1,)\nOblique_First_scan_i (1200,)\nOblique_Last_scan_i (1200,)\nOblique_Maximal_ts_i (1200,)\nOblique_Minimal_ts_i (1200,)\nPIXSYNC_i (1,)\nSCANSYNC (1,)\ntime_stamp_i (1200,)\n\n\n./src/data/S3A_SL_1_RBT____20200530T130937_20200530T131237_20200531T181403_0180_059_010_0180_LN2_O_NT_004.SEN3/viscal.nc\nANX_time (1,)\nS1_BB1_SD (4, 2, 2)\nS1_BB1_means (4, 2, 2)\nS1_VISCAL_SD (4, 2, 2)\nS1_VISCAL_means (4, 2, 2)\nS1_slopes (4, 2, 2)\nS1_solar_irradiances (4, 2)\nS2_BB1_SD (4, 2, 2)\nS2_BB1_means (4, 2, 2)\nS2_VISCAL_SD (4, 2, 2)\nS2_VISCAL_means (4, 2, 2)\nS2_slopes (4, 2, 2)\nS2_solar_irradiances (4, 2)\nS3_BB1_SD (4, 2, 2)\nS3_BB1_means (4, 2, 2)\nS3_VISCAL_SD (4, 2, 2)\nS3_VISCAL_means (4, 2, 2)\nS3_slopes (4, 2, 2)\nS3_solar_irradiances (4, 2)\nS4_BB1_SD (8, 2, 2)\nS4_BB1_means (8, 2, 2)\nS4_VISCAL_SD (8, 2, 2)\nS4_VISCAL_means (8, 2, 2)\nS4_slopes (8, 2, 2)\nS4_solar_irradiances (8, 2)\nS5_BB1_SD (8, 2, 2)\nS5_BB1_means (8, 2, 2)\nS5_VISCAL_SD (8, 2, 2)\nS5_VISCAL_means (8, 2, 2)\nS5_slopes (8, 2, 2)\nS5_solar_irradiances (8, 2)\nS6_BB1_SD (8, 2, 2)\nS6_BB1_means (8, 2, 2)\nS6_VISCAL_SD (8, 2, 2)\nS6_VISCAL_means (8, 2, 2)\nS6_slopes (8, 2, 2)\nS6_solar_irradiances (8, 2)\ncalibration_time (1,)\nmonitor_SD (1,)\nmonitor_mean (1,)\n\n\n"
    }
   ],
   "source": [
    "from netCDF4 import Dataset\n",
    "for file_title in file_titles:\n",
    "    data_path = os.path.join(DOWNLOADED_DATA_PATH, '{}.SEN3'.format(file_title))\n",
    "    for nc_file_name in sorted(os.listdir(data_path)):\n",
    "        if nc_file_name.endswith('.nc'):\n",
    "            nc_file_path =  os.path.join(data_path, nc_file_name)  \n",
    "            print(nc_file_path)\n",
    "            rootgrp = Dataset(nc_file_path, \"r\", format=\"NETCDF4\")\n",
    "\n",
    "            for i in rootgrp.variables:\n",
    "                print(i, rootgrp.variables[i].shape)\n",
    "\n",
    "            print('\\n')"
   ]
  },
  {
   "cell_type": "code",
   "execution_count": null,
   "metadata": {},
   "outputs": [],
   "source": []
  }
 ],
 "metadata": {
  "kernelspec": {
   "display_name": "Python 3",
   "language": "python",
   "name": "python3"
  },
  "language_info": {
   "codemirror_mode": {
    "name": "ipython",
    "version": 3
   },
   "file_extension": ".py",
   "mimetype": "text/x-python",
   "name": "python",
   "nbconvert_exporter": "python",
   "pygments_lexer": "ipython3",
   "version": "3.9.0-beta"
  }
 },
 "nbformat": 4,
 "nbformat_minor": 4
}