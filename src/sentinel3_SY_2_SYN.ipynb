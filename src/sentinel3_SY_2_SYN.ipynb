{
 "cells": [
  {
   "cell_type": "code",
   "execution_count": 1,
   "metadata": {
    "tags": [
     "outputPrepend"
    ]
   },
   "outputs": [],
   "source": [
    "from src.sentinel_api import get_sentinel_api\n",
    "from src.constant import GEOJSON_PATH, DOWNLOADED_DATA_PATH, REMOVE_ZIPS\n",
    "import os\n",
    "\n",
    "# get api \n",
    "api = get_sentinel_api()"
   ]
  },
  {
   "cell_type": "code",
   "execution_count": 2,
   "metadata": {},
   "outputs": [
    {
     "output_type": "stream",
     "name": "stderr",
     "text": "Downloading: 100%|██████████| 927M/927M [00:37<00:00, 24.9MB/s]\nMD5 checksumming: 100%|██████████| 927M/927M [00:29<00:00, 31.2MB/s](OrderedDict([('a980fb05-e058-4757-9daf-43dd36a92579', {'id': 'a980fb05-e058-4757-9daf-43dd36a92579', 'title': 'S3A_SY_2_SYN____20200530T051741_20200530T052041_20200531T164906_0179_059_005_2160_LN2_O_NT_002', 'size': 926579072, 'md5': '3C5743583ACE93D095C6BDB49232F6E0', 'date': datetime.datetime(2020, 5, 30, 5, 17, 40, 785000), 'footprint': 'POLYGON((65.8114 41.9773,66.6439 41.9,67.4689 41.8177,68.2877 41.73,69.1144 41.6353,69.9412 41.5344,70.7722 41.4266,71.5626 41.3183,72.3709 41.2012,73.176 41.0785,73.9904 40.9532,74.7863 40.8196,75.5839 40.6825,76.3741 40.5352,77.1589 40.386,77.9438 40.2281,78.7297 40.0677,79.5072 39.902,80.2831 39.7306,81.0582 39.5532,82.106 42.1516,83.2388 44.7439,84.4691 47.3262,85.8156 49.8941,84.8967 50.101,83.9796 50.2984,83.0607 50.4873,82.1303 50.6687,81.1926 50.8466,80.2453 51.0146,79.2941 51.1774,78.3339 51.3275,77.3662 51.4726,76.3909 51.6047,75.417 51.7328,74.4298 51.8538,73.4439 51.9654,72.4497 52.0691,71.4608 52.1636,70.4562 52.2507,69.4574 52.3286,68.4496 52.3984,67.4281 52.4606,67.0326 49.8411,66.6314 47.2196,66.2235 44.597,65.8114 41.9773))', 'url': \"https://scihub.copernicus.eu/dhus/odata/v1/Products('a980fb05-e058-4757-9daf-43dd36a92579')/$value\", 'Online': True, 'Creation Date': datetime.datetime(2020, 5, 31, 17, 53, 12, 854000), 'Ingestion Date': datetime.datetime(2020, 5, 31, 17, 52, 51, 537000), 'path': './src/data/S3A_SY_2_SYN____20200530T051741_20200530T052041_20200531T164906_0179_059_005_2160_LN2_O_NT_002.zip', 'downloaded_bytes': 926579072})]), OrderedDict(), set())\n\n"
    }
   ],
   "source": [
    "# search by polygon, time, and Hub query keywords\n",
    "products_query = api.query(\n",
    "                    limit = 1,\n",
    "                    filename = 'S3A_*',\n",
    "                    producttype = 'SY_2_SYN___')\n",
    "\n",
    "os.makedirs(DOWNLOADED_DATA_PATH, exist_ok = True) \n",
    "products = api.download_all(products_query, DOWNLOADED_DATA_PATH)\n",
    "print(products)"
   ]
  },
  {
   "cell_type": "code",
   "execution_count": 3,
   "metadata": {},
   "outputs": [],
   "source": [
    "file_titles = []\n",
    "zip_files = []\n",
    "\n",
    "for product in products:\n",
    "    for product_id in product:\n",
    "        file_titles.append(product[product_id]['title'])\n",
    "        zip_files.append(product[product_id]['path'])\n",
    "\n",
    "        import zipfile\n",
    "        archive = zipfile.ZipFile(product[product_id]['path'], 'r')\n",
    "        archive.extractall(path=DOWNLOADED_DATA_PATH)\n",
    "\n",
    "for zip_file in zip_files:\n",
    "    if REMOVE_ZIPS:\n",
    "        os.remove(zip_file)    "
   ]
  },
  {
   "cell_type": "code",
   "execution_count": 4,
   "metadata": {},
   "outputs": [
    {
     "output_type": "stream",
     "name": "stdout",
     "text": "./src/data/S3A_SY_2_SYN____20200530T051741_20200530T052041_20200531T164906_0179_059_005_2160_LN2_O_NT_002.SEN3/Syn_AMIN.nc\nAMIN (4091, 4865)\n\n\n./src/data/S3A_SY_2_SYN____20200530T051741_20200530T052041_20200531T164906_0179_059_005_2160_LN2_O_NT_002.SEN3/Syn_AOT550.nc\nT550 (4091, 4865)\nT550_err (4091, 4865)\n\n\n./src/data/S3A_SY_2_SYN____20200530T051741_20200530T052041_20200531T164906_0179_059_005_2160_LN2_O_NT_002.SEN3/Syn_Angstrom_exp550.nc\nA550 (4091, 4865)\n\n\n./src/data/S3A_SY_2_SYN____20200530T051741_20200530T052041_20200531T164906_0179_059_005_2160_LN2_O_NT_002.SEN3/Syn_Oa01_reflectance.nc\nSDR_Oa01 (4091, 4865)\nSDR_Oa01_err (4091, 4865)\n\n\n./src/data/S3A_SY_2_SYN____20200530T051741_20200530T052041_20200531T164906_0179_059_005_2160_LN2_O_NT_002.SEN3/Syn_Oa02_reflectance.nc\nSDR_Oa02 (4091, 4865)\nSDR_Oa02_err (4091, 4865)\n\n\n./src/data/S3A_SY_2_SYN____20200530T051741_20200530T052041_20200531T164906_0179_059_005_2160_LN2_O_NT_002.SEN3/Syn_Oa03_reflectance.nc\nSDR_Oa03 (4091, 4865)\nSDR_Oa03_err (4091, 4865)\n\n\n./src/data/S3A_SY_2_SYN____20200530T051741_20200530T052041_20200531T164906_0179_059_005_2160_LN2_O_NT_002.SEN3/Syn_Oa04_reflectance.nc\nSDR_Oa04 (4091, 4865)\nSDR_Oa04_err (4091, 4865)\n\n\n./src/data/S3A_SY_2_SYN____20200530T051741_20200530T052041_20200531T164906_0179_059_005_2160_LN2_O_NT_002.SEN3/Syn_Oa05_reflectance.nc\nSDR_Oa05 (4091, 4865)\nSDR_Oa05_err (4091, 4865)\n\n\n./src/data/S3A_SY_2_SYN____20200530T051741_20200530T052041_20200531T164906_0179_059_005_2160_LN2_O_NT_002.SEN3/Syn_Oa06_reflectance.nc\nSDR_Oa06 (4091, 4865)\nSDR_Oa06_err (4091, 4865)\n\n\n./src/data/S3A_SY_2_SYN____20200530T051741_20200530T052041_20200531T164906_0179_059_005_2160_LN2_O_NT_002.SEN3/Syn_Oa07_reflectance.nc\nSDR_Oa07 (4091, 4865)\nSDR_Oa07_err (4091, 4865)\n\n\n./src/data/S3A_SY_2_SYN____20200530T051741_20200530T052041_20200531T164906_0179_059_005_2160_LN2_O_NT_002.SEN3/Syn_Oa08_reflectance.nc\nSDR_Oa08 (4091, 4865)\nSDR_Oa08_err (4091, 4865)\n\n\n./src/data/S3A_SY_2_SYN____20200530T051741_20200530T052041_20200531T164906_0179_059_005_2160_LN2_O_NT_002.SEN3/Syn_Oa09_reflectance.nc\nSDR_Oa09 (4091, 4865)\nSDR_Oa09_err (4091, 4865)\n\n\n./src/data/S3A_SY_2_SYN____20200530T051741_20200530T052041_20200531T164906_0179_059_005_2160_LN2_O_NT_002.SEN3/Syn_Oa10_reflectance.nc\nSDR_Oa10 (4091, 4865)\nSDR_Oa10_err (4091, 4865)\n\n\n./src/data/S3A_SY_2_SYN____20200530T051741_20200530T052041_20200531T164906_0179_059_005_2160_LN2_O_NT_002.SEN3/Syn_Oa11_reflectance.nc\nSDR_Oa11 (4091, 4865)\nSDR_Oa11_err (4091, 4865)\n\n\n./src/data/S3A_SY_2_SYN____20200530T051741_20200530T052041_20200531T164906_0179_059_005_2160_LN2_O_NT_002.SEN3/Syn_Oa12_reflectance.nc\nSDR_Oa12 (4091, 4865)\nSDR_Oa12_err (4091, 4865)\n\n\n./src/data/S3A_SY_2_SYN____20200530T051741_20200530T052041_20200531T164906_0179_059_005_2160_LN2_O_NT_002.SEN3/Syn_Oa16_reflectance.nc\nSDR_Oa16 (4091, 4865)\nSDR_Oa16_err (4091, 4865)\n\n\n./src/data/S3A_SY_2_SYN____20200530T051741_20200530T052041_20200531T164906_0179_059_005_2160_LN2_O_NT_002.SEN3/Syn_Oa17_reflectance.nc\nSDR_Oa17 (4091, 4865)\nSDR_Oa17_err (4091, 4865)\n\n\n./src/data/S3A_SY_2_SYN____20200530T051741_20200530T052041_20200531T164906_0179_059_005_2160_LN2_O_NT_002.SEN3/Syn_Oa18_reflectance.nc\nSDR_Oa18 (4091, 4865)\nSDR_Oa18_err (4091, 4865)\n\n\n./src/data/S3A_SY_2_SYN____20200530T051741_20200530T052041_20200531T164906_0179_059_005_2160_LN2_O_NT_002.SEN3/Syn_Oa21_reflectance.nc\nSDR_Oa21 (4091, 4865)\nSDR_Oa21_err (4091, 4865)\n\n\n./src/data/S3A_SY_2_SYN____20200530T051741_20200530T052041_20200531T164906_0179_059_005_2160_LN2_O_NT_002.SEN3/Syn_S1N_reflectance.nc\nSDR_S1N (4091, 4865)\nSDR_S1N_err (4091, 4865)\n\n\n./src/data/S3A_SY_2_SYN____20200530T051741_20200530T052041_20200531T164906_0179_059_005_2160_LN2_O_NT_002.SEN3/Syn_S1O_reflectance.nc\nSDR_S1O (4091, 4865)\nSDR_S1O_err (4091, 4865)\n\n\n./src/data/S3A_SY_2_SYN____20200530T051741_20200530T052041_20200531T164906_0179_059_005_2160_LN2_O_NT_002.SEN3/Syn_S2N_reflectance.nc\nSDR_S2N (4091, 4865)\nSDR_S2N_err (4091, 4865)\n\n\n./src/data/S3A_SY_2_SYN____20200530T051741_20200530T052041_20200531T164906_0179_059_005_2160_LN2_O_NT_002.SEN3/Syn_S2O_reflectance.nc\nSDR_S2O (4091, 4865)\nSDR_S2O_err (4091, 4865)\n\n\n./src/data/S3A_SY_2_SYN____20200530T051741_20200530T052041_20200531T164906_0179_059_005_2160_LN2_O_NT_002.SEN3/Syn_S3N_reflectance.nc\nSDR_S3N (4091, 4865)\nSDR_S3N_err (4091, 4865)\n\n\n./src/data/S3A_SY_2_SYN____20200530T051741_20200530T052041_20200531T164906_0179_059_005_2160_LN2_O_NT_002.SEN3/Syn_S3O_reflectance.nc\nSDR_S3O (4091, 4865)\nSDR_S3O_err (4091, 4865)\n\n\n./src/data/S3A_SY_2_SYN____20200530T051741_20200530T052041_20200531T164906_0179_059_005_2160_LN2_O_NT_002.SEN3/Syn_S5N_reflectance.nc\nSDR_S5N (4091, 4865)\nSDR_S5N_err (4091, 4865)\n\n\n./src/data/S3A_SY_2_SYN____20200530T051741_20200530T052041_20200531T164906_0179_059_005_2160_LN2_O_NT_002.SEN3/Syn_S5O_reflectance.nc\nSDR_S5O (4091, 4865)\nSDR_S5O_err (4091, 4865)\n\n\n./src/data/S3A_SY_2_SYN____20200530T051741_20200530T052041_20200531T164906_0179_059_005_2160_LN2_O_NT_002.SEN3/Syn_S6N_reflectance.nc\nSDR_S6N (4091, 4865)\nSDR_S6N_err (4091, 4865)\n\n\n./src/data/S3A_SY_2_SYN____20200530T051741_20200530T052041_20200531T164906_0179_059_005_2160_LN2_O_NT_002.SEN3/Syn_S6O_reflectance.nc\nSDR_S6O (4091, 4865)\nSDR_S6O_err (4091, 4865)\n\n\n./src/data/S3A_SY_2_SYN____20200530T051741_20200530T052041_20200531T164906_0179_059_005_2160_LN2_O_NT_002.SEN3/Syn_SDR_removed_pixel.nc\nA550 (4091, 122)\nSDR_Oa01 (4091, 122)\nSDR_Oa01_err (4091, 122)\nSDR_Oa02 (4091, 122)\nSDR_Oa02_err (4091, 122)\nSDR_Oa03 (4091, 122)\nSDR_Oa03_err (4091, 122)\nSDR_Oa04 (4091, 122)\nSDR_Oa04_err (4091, 122)\nSDR_Oa05 (4091, 122)\nSDR_Oa05_err (4091, 122)\nSDR_Oa06 (4091, 122)\nSDR_Oa06_err (4091, 122)\nSDR_Oa07 (4091, 122)\nSDR_Oa07_err (4091, 122)\nSDR_Oa08 (4091, 122)\nSDR_Oa08_err (4091, 122)\nSDR_Oa09 (4091, 122)\nSDR_Oa09_err (4091, 122)\nSDR_Oa10 (4091, 122)\nSDR_Oa10_err (4091, 122)\nSDR_Oa11 (4091, 122)\nSDR_Oa11_err (4091, 122)\nSDR_Oa12 (4091, 122)\nSDR_Oa12_err (4091, 122)\nSDR_Oa16 (4091, 122)\nSDR_Oa16_err (4091, 122)\nSDR_Oa17 (4091, 122)\nSDR_Oa17_err (4091, 122)\nSDR_Oa18 (4091, 122)\nSDR_Oa18_err (4091, 122)\nSDR_Oa21 (4091, 122)\nSDR_Oa21_err (4091, 122)\nSDR_S1N (4091, 122)\nSDR_S1N_err (4091, 122)\nSDR_S1O (4091, 122)\nSDR_S1O_err (4091, 122)\nSDR_S2N (4091, 122)\nSDR_S2N_err (4091, 122)\nSDR_S2O (4091, 122)\nSDR_S2O_err (4091, 122)\nSDR_S3N (4091, 122)\nSDR_S3N_err (4091, 122)\nSDR_S3O (4091, 122)\nSDR_S3O_err (4091, 122)\nSDR_S5N (4091, 122)\nSDR_S5N_err (4091, 122)\nSDR_S5O (4091, 122)\nSDR_S5O_err (4091, 122)\nSDR_S6N (4091, 122)\nSDR_S6N_err (4091, 122)\nSDR_S6O (4091, 122)\nSDR_S6O_err (4091, 122)\nT550 (4091, 122)\nT550_err (4091, 122)\n\n\n./src/data/S3A_SY_2_SYN____20200530T051741_20200530T052041_20200531T164906_0179_059_005_2160_LN2_O_NT_002.SEN3/Syn_annot_rem.nc\nAMIN (4091, 122)\nCLOUD_flags (4091, 122)\nOLC_flags (4091, 122)\nSLN_flags (4091, 122)\nSLO_flags (4091, 122)\nSYN_flags (4091, 122)\naltitude (4091, 122)\nlat (4091, 122)\nlon (4091, 122)\n\n\n./src/data/S3A_SY_2_SYN____20200530T051741_20200530T052041_20200531T164906_0179_059_005_2160_LN2_O_NT_002.SEN3/flags.nc\nCLOUD_flags (4091, 4865)\nOLC_flags (4091, 4865)\nSLN_flags (4091, 4865)\nSLO_flags (4091, 4865)\nSYN_flags (4091, 4865)\n\n\n./src/data/S3A_SY_2_SYN____20200530T051741_20200530T052041_20200531T164906_0179_059_005_2160_LN2_O_NT_002.SEN3/geolocation.nc\naltitude (4091, 4865)\nlat (4091, 4865)\nlon (4091, 4865)\n\n\n./src/data/S3A_SY_2_SYN____20200530T051741_20200530T052041_20200531T164906_0179_059_005_2160_LN2_O_NT_002.SEN3/tiepoints_meteo.nc\nair_pressure (315007,)\nozone (315007,)\nwater_vapour (315007,)\n\n\n./src/data/S3A_SY_2_SYN____20200530T051741_20200530T052041_20200531T164906_0179_059_005_2160_LN2_O_NT_002.SEN3/tiepoints_olci.nc\nOLC_TP_lat (315007,)\nOLC_TP_lon (315007,)\nOLC_VAA (315007,)\nOLC_VZA (315007,)\nSAA (315007,)\nSZA (315007,)\n\n\n./src/data/S3A_SY_2_SYN____20200530T051741_20200530T052041_20200531T164906_0179_059_005_2160_LN2_O_NT_002.SEN3/tiepoints_slstr_n.nc\nSLN_TP_lat (5251610,)\nSLN_TP_lon (5251610,)\nSLN_VAA (5251610,)\nSLN_VZA (5251610,)\n\n\n./src/data/S3A_SY_2_SYN____20200530T051741_20200530T052041_20200531T164906_0179_059_005_2160_LN2_O_NT_002.SEN3/tiepoints_slstr_o.nc\nSLO_TP_lat (5251610,)\nSLO_TP_lon (5251610,)\nSLO_VAA (5251610,)\nSLO_VZA (5251610,)\n\n\n./src/data/S3A_SY_2_SYN____20200530T051741_20200530T052041_20200531T164906_0179_059_005_2160_LN2_O_NT_002.SEN3/time.nc\nTime (4091,)\n\n\n"
    }
   ],
   "source": [
    "from netCDF4 import Dataset\n",
    "for file_title in file_titles:\n",
    "    data_path = os.path.join(DOWNLOADED_DATA_PATH, '{}.SEN3'.format(file_title))\n",
    "    for nc_file_name in sorted(os.listdir(data_path)):\n",
    "        if nc_file_name.endswith('.nc'):\n",
    "            nc_file_path =  os.path.join(data_path, nc_file_name)  \n",
    "            print(nc_file_path)\n",
    "            rootgrp = Dataset(nc_file_path, \"r\", format=\"NETCDF4\")\n",
    "\n",
    "            for i in rootgrp.variables:\n",
    "                print(i, rootgrp.variables[i].shape)\n",
    "\n",
    "            print('\\n')"
   ]
  },
  {
   "cell_type": "code",
   "execution_count": null,
   "metadata": {},
   "outputs": [],
   "source": []
  }
 ],
 "metadata": {
  "kernelspec": {
   "display_name": "Python 3",
   "language": "python",
   "name": "python3"
  },
  "language_info": {
   "codemirror_mode": {
    "name": "ipython",
    "version": 3
   },
   "file_extension": ".py",
   "mimetype": "text/x-python",
   "name": "python",
   "nbconvert_exporter": "python",
   "pygments_lexer": "ipython3",
   "version": "3.9.0-beta"
  }
 },
 "nbformat": 4,
 "nbformat_minor": 4
}