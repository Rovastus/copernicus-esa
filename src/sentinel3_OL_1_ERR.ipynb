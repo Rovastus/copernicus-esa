{
 "cells": [
  {
   "cell_type": "code",
   "execution_count": 1,
   "metadata": {
    "tags": [
     "outputPrepend"
    ]
   },
   "outputs": [],
   "source": [
    "from src.sentinel_api import get_sentinel_api\n",
    "from src.constant import GEOJSON_PATH, DOWNLOADED_DATA_PATH, REMOVE_ZIPS\n",
    "import os\n",
    "\n",
    "# get api \n",
    "api = get_sentinel_api()"
   ]
  },
  {
   "cell_type": "code",
   "execution_count": 2,
   "metadata": {},
   "outputs": [
    {
     "output_type": "stream",
     "name": "stderr",
     "text": "Downloading: 100%|██████████| 752M/752M [00:35<00:00, 20.9MB/s]\nMD5 checksumming: 100%|██████████| 752M/752M [00:20<00:00, 37.1MB/s](OrderedDict([('0e5c4c5c-4daa-4eec-8fb6-b27678a9eece', {'id': '0e5c4c5c-4daa-4eec-8fb6-b27678a9eece', 'title': 'S3A_OL_1_ERR____20200530T132651_20200530T141117_20200531T170053_2666_059_010______LN1_O_NT_002', 'size': 752479821, 'md5': '364BBA97619B2477EBC3F90B7E4D705E', 'date': datetime.datetime(2020, 5, 30, 13, 26, 50, 807000), 'footprint': 'POLYGON((-85.5682 -47.034,-84.7496 -47.3072,-83.9151 -47.5639,-83.0724 -47.8146,-82.2217 -48.059,-81.3631 -48.2969,-80.4965 -48.5285,-79.6225 -48.7531,-78.7404 -48.9714,-77.8507 -49.1828,-76.951 -49.3836,-76.0465 -49.581,-75.1341 -49.7715,-74.2169 -49.9573,-73.2916 -50.133,-72.3597 -50.3013,-71.4217 -50.4625,-70.4765 -50.6156,-69.5255 -50.761,-68.5647 -50.888,-68.2172 -49.8752,-67.6262 -48.083,-67.0617 -46.2887,-66.5205 -44.4921,-65.9997 -42.694,-65.4969 -40.8939,-65.0098 -39.0921,-64.5367 -37.289,-64.0758 -35.4841,-63.6255 -33.6782,-63.1848 -31.8708,-62.7529 -30.062,-62.3279 -28.2522,-61.9092 -26.4416,-61.496 -24.6299,-61.0876 -22.8174,-60.6833 -21.0037,-60.2822 -19.1889,-59.8837 -17.3737,-59.487 -15.5585,-59.0921 -13.7416,-58.6981 -11.9245,-58.3041 -10.1076,-57.9102 -8.28955,-57.515 -6.47276,-57.1194 -4.65357,-56.722 -2.83474,-56.3218 -1.01709,-55.9186 0.800681,-55.5126 2.61878,-55.1024 4.43662,-54.6877 6.25394,-54.268 8.07088,-53.8423 9.88729,-53.4103 11.7027,-52.9712 13.5179,-52.5241 15.3316,-52.068 17.1444,-51.6026 18.9566,-51.126 20.7662,-50.6381 22.5757,-50.1373 24.3832,-49.622 26.1884,-49.0915 27.9926,-48.5441 29.7947,-47.9769 31.5926,-47.3895 33.3899,-46.7792 35.1838,-46.1433 36.9745,-45.4791 38.7621,-44.7837 40.5457,-44.0532 42.325,-43.284 44.1003,-42.4707 45.8701,-41.6083 47.6343,-40.6904 49.3923,-39.7093 51.1431,-38.6566 52.8855,-37.5215 54.6183,-36.2926 56.3416,-34.9544 58.0518,-33.4902 59.7486,-31.8776 61.4279,-30.0917 63.088,-28.1001 64.724,-25.8647 66.3329,-23.3376 67.9068,-20.4596 69.4388,-17.1613 70.9186,-13.3553 72.3333,-8.9435 73.6661,-3.81743 74.896,2.12943 75.9946,8.97186 76.9298,16.7198 77.6647,25.2548 78.1612,34.3118 78.3887,43.506 78.3327,52.3995 77.996,60.645 77.4012,68.0428 76.5829,74.5258 75.5789,80.1356 74.425,84.9699 73.1517,89.129 71.7844,92.7228 70.3423,95.8461 68.8407,97.274 69.1952,98.7487 69.5277,100.274 69.8484,101.843 70.1566,103.461 70.4491,105.125 70.7267,106.835 70.989,108.59 71.2348,110.39 71.4641,112.231 71.6775,114.11 71.8713,116.027 72.0465,117.981 72.2051,119.965 72.3419,121.974 72.4585,124.006 72.5545,126.066 72.63,128.136 72.684,130.209 72.7028,130.003 74.4876,129.815 76.2719,129.651 78.0558,129.519 79.8396,129.45 81.6226,129.485 83.4057,129.738 85.1882,130.611 86.9692,134.697 88.746,-69.6188 89.4368,-57.2241 87.6722,-55.7612 85.8917,-55.3408 84.1095,-55.2401 82.327,-55.2787 80.5438,-55.3864 78.7603,-55.5396 76.9765,-55.7206 75.1923,-55.9196 73.4077,-56.1332 71.6225,-56.3565 69.8371,-56.5873 68.0507,-56.8262 66.2643,-57.0694 64.477,-57.318 62.6893,-57.5695 60.9007,-57.8257 59.1117,-58.0844 57.3216,-58.3473 55.5314,-58.6127 53.7401,-58.8809 51.9482,-59.1517 50.1555,-59.4254 48.3621,-59.702 46.568,-59.981 44.773,-60.2634 42.9776,-60.5484 41.1813,-60.8364 39.3842,-61.1274 37.5865,-61.4214 35.7883,-61.7187 33.9889,-62.0203 32.1901,-62.3241 30.3896,-62.6318 28.5891,-62.9439 26.7881,-63.2596 24.9865,-63.5794 23.1843,-63.9043 21.3827,-64.233 19.58,-64.5671 17.7774,-64.9061 15.9748,-65.2504 14.1719,-65.6004 12.3695,-65.9566 10.5667,-66.3189 8.76445,-66.6879 6.96262,-67.064 5.161,-67.4474 3.36004,-67.8392 1.55977,-68.2394 -0.239612,-68.6479 -2.03855,-69.0657 -3.83647,-69.4947 -5.63221,-69.9337 -7.42774,-70.3846 -9.2211,-70.8473 -11.0132,-71.3231 -12.8034,-71.8135 -14.5912,-72.3186 -16.3772,-72.8398 -18.1608,-73.3782 -19.9413,-73.9356 -21.719,-74.5133 -23.4937,-75.1128 -25.2646,-75.7359 -27.0319,-76.384 -28.795,-77.0604 -30.5534,-77.7672 -32.3068,-78.5069 -34.0549,-79.2826 -35.7967,-80.098 -37.5321,-80.9569 -39.2602,-81.8636 -40.9801,-82.8232 -42.6914,-83.8413 -44.3927,-84.9242 -46.0831,-85.5682 -47.034))', 'url': \"https://scihub.copernicus.eu/dhus/odata/v1/Products('0e5c4c5c-4daa-4eec-8fb6-b27678a9eece')/$value\", 'Online': True, 'Creation Date': datetime.datetime(2020, 5, 31, 17, 28, 11, 704000), 'Ingestion Date': datetime.datetime(2020, 5, 31, 17, 28, 0, 429000), 'path': './src/data/S3A_OL_1_ERR____20200530T132651_20200530T141117_20200531T170053_2666_059_010______LN1_O_NT_002.zip', 'downloaded_bytes': 752479821})]), OrderedDict(), set())\n\n"
    }
   ],
   "source": [
    "# search by polygon, time, and Hub query keywords\n",
    "products_query = api.query(\n",
    "                    limit = 1,\n",
    "                    filename = 'S3A_*',\n",
    "                    producttype = 'OL_1_ERR___')\n",
    "\n",
    "os.makedirs(DOWNLOADED_DATA_PATH, exist_ok = True) \n",
    "products = api.download_all(products_query, DOWNLOADED_DATA_PATH)\n",
    "print(products)"
   ]
  },
  {
   "cell_type": "code",
   "execution_count": 3,
   "metadata": {},
   "outputs": [],
   "source": [
    "file_titles = []\n",
    "zip_files = []\n",
    "\n",
    "for product in products:\n",
    "    for product_id in product:\n",
    "        file_titles.append(product[product_id]['title'])\n",
    "        zip_files.append(product[product_id]['path'])\n",
    "\n",
    "        import zipfile\n",
    "        archive = zipfile.ZipFile(product[product_id]['path'], 'r')\n",
    "        archive.extractall(path=DOWNLOADED_DATA_PATH)\n",
    "\n",
    "for zip_file in zip_files:\n",
    "    if REMOVE_ZIPS:\n",
    "        os.remove(zip_file)    "
   ]
  },
  {
   "cell_type": "code",
   "execution_count": 4,
   "metadata": {},
   "outputs": [
    {
     "output_type": "stream",
     "name": "stdout",
     "text": "./src/data/S3A_OL_1_ERR____20200530T132651_20200530T141117_20200531T170053_2666_059_010______LN1_O_NT_002.SEN3/Oa01_radiance.nc\nOa01_radiance (15150, 1217)\n\n\n./src/data/S3A_OL_1_ERR____20200530T132651_20200530T141117_20200531T170053_2666_059_010______LN1_O_NT_002.SEN3/Oa02_radiance.nc\nOa02_radiance (15150, 1217)\n\n\n./src/data/S3A_OL_1_ERR____20200530T132651_20200530T141117_20200531T170053_2666_059_010______LN1_O_NT_002.SEN3/Oa03_radiance.nc\nOa03_radiance (15150, 1217)\n\n\n./src/data/S3A_OL_1_ERR____20200530T132651_20200530T141117_20200531T170053_2666_059_010______LN1_O_NT_002.SEN3/Oa04_radiance.nc\nOa04_radiance (15150, 1217)\n\n\n./src/data/S3A_OL_1_ERR____20200530T132651_20200530T141117_20200531T170053_2666_059_010______LN1_O_NT_002.SEN3/Oa05_radiance.nc\nOa05_radiance (15150, 1217)\n\n\n./src/data/S3A_OL_1_ERR____20200530T132651_20200530T141117_20200531T170053_2666_059_010______LN1_O_NT_002.SEN3/Oa06_radiance.nc\nOa06_radiance (15150, 1217)\n\n\n./src/data/S3A_OL_1_ERR____20200530T132651_20200530T141117_20200531T170053_2666_059_010______LN1_O_NT_002.SEN3/Oa07_radiance.nc\nOa07_radiance (15150, 1217)\n\n\n./src/data/S3A_OL_1_ERR____20200530T132651_20200530T141117_20200531T170053_2666_059_010______LN1_O_NT_002.SEN3/Oa08_radiance.nc\nOa08_radiance (15150, 1217)\n\n\n./src/data/S3A_OL_1_ERR____20200530T132651_20200530T141117_20200531T170053_2666_059_010______LN1_O_NT_002.SEN3/Oa09_radiance.nc\nOa09_radiance (15150, 1217)\n\n\n./src/data/S3A_OL_1_ERR____20200530T132651_20200530T141117_20200531T170053_2666_059_010______LN1_O_NT_002.SEN3/Oa10_radiance.nc\nOa10_radiance (15150, 1217)\n\n\n./src/data/S3A_OL_1_ERR____20200530T132651_20200530T141117_20200531T170053_2666_059_010______LN1_O_NT_002.SEN3/Oa11_radiance.nc\nOa11_radiance (15150, 1217)\n\n\n./src/data/S3A_OL_1_ERR____20200530T132651_20200530T141117_20200531T170053_2666_059_010______LN1_O_NT_002.SEN3/Oa12_radiance.nc\nOa12_radiance (15150, 1217)\n\n\n./src/data/S3A_OL_1_ERR____20200530T132651_20200530T141117_20200531T170053_2666_059_010______LN1_O_NT_002.SEN3/Oa13_radiance.nc\nOa13_radiance (15150, 1217)\n\n\n./src/data/S3A_OL_1_ERR____20200530T132651_20200530T141117_20200531T170053_2666_059_010______LN1_O_NT_002.SEN3/Oa14_radiance.nc\nOa14_radiance (15150, 1217)\n\n\n./src/data/S3A_OL_1_ERR____20200530T132651_20200530T141117_20200531T170053_2666_059_010______LN1_O_NT_002.SEN3/Oa15_radiance.nc\nOa15_radiance (15150, 1217)\n\n\n./src/data/S3A_OL_1_ERR____20200530T132651_20200530T141117_20200531T170053_2666_059_010______LN1_O_NT_002.SEN3/Oa16_radiance.nc\nOa16_radiance (15150, 1217)\n\n\n./src/data/S3A_OL_1_ERR____20200530T132651_20200530T141117_20200531T170053_2666_059_010______LN1_O_NT_002.SEN3/Oa17_radiance.nc\nOa17_radiance (15150, 1217)\n\n\n./src/data/S3A_OL_1_ERR____20200530T132651_20200530T141117_20200531T170053_2666_059_010______LN1_O_NT_002.SEN3/Oa18_radiance.nc\nOa18_radiance (15150, 1217)\n\n\n./src/data/S3A_OL_1_ERR____20200530T132651_20200530T141117_20200531T170053_2666_059_010______LN1_O_NT_002.SEN3/Oa19_radiance.nc\nOa19_radiance (15150, 1217)\n\n\n./src/data/S3A_OL_1_ERR____20200530T132651_20200530T141117_20200531T170053_2666_059_010______LN1_O_NT_002.SEN3/Oa20_radiance.nc\nOa20_radiance (15150, 1217)\n\n\n./src/data/S3A_OL_1_ERR____20200530T132651_20200530T141117_20200531T170053_2666_059_010______LN1_O_NT_002.SEN3/Oa21_radiance.nc\nOa21_radiance (15150, 1217)\n\n\n./src/data/S3A_OL_1_ERR____20200530T132651_20200530T141117_20200531T170053_2666_059_010______LN1_O_NT_002.SEN3/geo_coordinates.nc\naltitude (15150, 1217)\nlatitude (15150, 1217)\nlongitude (15150, 1217)\n\n\n./src/data/S3A_OL_1_ERR____20200530T132651_20200530T141117_20200531T170053_2666_059_010______LN1_O_NT_002.SEN3/instrument_data.nc\nFWHM (21, 3700)\ndetector_index (15150, 1217)\nframe_offset (3700,)\nlambda0 (21, 3700)\nrelative_spectral_covariance (21, 21)\nsolar_flux (21, 3700)\n\n\n./src/data/S3A_OL_1_ERR____20200530T132651_20200530T141117_20200531T170053_2666_059_010______LN1_O_NT_002.SEN3/qualityFlags.nc\nquality_flags (15150, 1217)\n\n\n./src/data/S3A_OL_1_ERR____20200530T132651_20200530T141117_20200531T170053_2666_059_010______LN1_O_NT_002.SEN3/tie_geo_coordinates.nc\nlatitude (15150, 77)\nlongitude (15150, 77)\n\n\n./src/data/S3A_OL_1_ERR____20200530T132651_20200530T141117_20200531T170053_2666_059_010______LN1_O_NT_002.SEN3/tie_geometries.nc\nOAA (15150, 77)\nOZA (15150, 77)\nSAA (15150, 77)\nSZA (15150, 77)\n\n\n./src/data/S3A_OL_1_ERR____20200530T132651_20200530T141117_20200531T170053_2666_059_010______LN1_O_NT_002.SEN3/tie_meteo.nc\natmospheric_temperature_profile (15150, 77, 25)\nhorizontal_wind (15150, 77, 2)\nhumidity (15150, 77)\nreference_pressure_level (25,)\nsea_level_pressure (15150, 77)\ntotal_columnar_water_vapour (15150, 77)\ntotal_ozone (15150, 77)\n\n\n./src/data/S3A_OL_1_ERR____20200530T132651_20200530T141117_20200531T170053_2666_059_010______LN1_O_NT_002.SEN3/time_coordinates.nc\ntime_stamp (15150,)\n\n\n"
    }
   ],
   "source": [
    "from netCDF4 import Dataset\n",
    "for file_title in file_titles:\n",
    "    data_path = os.path.join(DOWNLOADED_DATA_PATH, '{}.SEN3'.format(file_title))\n",
    "    for nc_file_name in sorted(os.listdir(data_path)):\n",
    "        if nc_file_name.endswith('.nc'):\n",
    "            nc_file_path =  os.path.join(data_path, nc_file_name)  \n",
    "            print(nc_file_path)\n",
    "            rootgrp = Dataset(nc_file_path, \"r\", format=\"NETCDF4\")\n",
    "\n",
    "            for i in rootgrp.variables:\n",
    "                print(i, rootgrp.variables[i].shape)\n",
    "\n",
    "            print('\\n')"
   ]
  },
  {
   "cell_type": "code",
   "execution_count": null,
   "metadata": {},
   "outputs": [],
   "source": []
  }
 ],
 "metadata": {
  "kernelspec": {
   "display_name": "Python 3",
   "language": "python",
   "name": "python3"
  },
  "language_info": {
   "codemirror_mode": {
    "name": "ipython",
    "version": 3
   },
   "file_extension": ".py",
   "mimetype": "text/x-python",
   "name": "python",
   "nbconvert_exporter": "python",
   "pygments_lexer": "ipython3",
   "version": "3.9.0-beta"
  }
 },
 "nbformat": 4,
 "nbformat_minor": 4
}