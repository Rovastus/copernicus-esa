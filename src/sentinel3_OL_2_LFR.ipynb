{
 "cells": [
  {
   "cell_type": "code",
   "execution_count": 1,
   "metadata": {
    "tags": [
     "outputPrepend"
    ]
   },
   "outputs": [],
   "source": [
    "from src.sentinel_api import get_sentinel_api\n",
    "from src.constant import GEOJSON_PATH, DOWNLOADED_DATA_PATH, REMOVE_ZIPS\n",
    "import os\n",
    "\n",
    "# get api \n",
    "api = get_sentinel_api()"
   ]
  },
  {
   "cell_type": "code",
   "execution_count": 2,
   "metadata": {},
   "outputs": [
    {
     "output_type": "stream",
     "name": "stderr",
     "text": "Downloading: 100%|██████████| 94.8M/94.8M [00:03<00:00, 26.6MB/s]\nMD5 checksumming: 100%|██████████| 94.8M/94.8M [00:02<00:00, 34.2MB/s](OrderedDict([('b384df66-ca30-4fce-916a-729fe40ab971', {'id': 'b384df66-ca30-4fce-916a-729fe40ab971', 'title': 'S3A_OL_2_LFR____20200530T132737_20200530T133037_20200531T172050_0179_059_010_1260_LN1_O_NT_002', 'size': 94820603, 'md5': 'D086E41B34D965804B93AC013B33DEE7', 'date': datetime.datetime(2020, 5, 30, 13, 27, 36, 802000), 'footprint': 'POLYGON((129.925 85.7901,121.559 85.7641,113.437 85.6477,105.85 85.4487,99.0488 85.1795,93.0086 84.8483,87.7497 84.4676,83.2021 84.0456,79.2841 83.5948,75.8823 83.1165,72.9482 82.6149,70.3754 82.1001,68.1302 81.5688,66.1313 81.0277,64.3709 80.4774,62.791 79.9211,61.3972 79.3551,60.1311 78.783,58.9885 78.207,57.9471 77.629,68.8741 76.4708,77.892 74.9233,85.1644 73.0939,91.008 71.0644,92.5219 71.4445,94.1022 71.8168,95.7336 72.1732,97.4329 72.5196,99.1967 72.8444,101.03 73.1571,102.927 73.4521,104.883 73.7312,106.902 73.9887,108.987 74.2302,111.133 74.4487,113.341 74.6463,115.588 74.823,117.894 74.976,120.244 75.1053,122.618 75.2097,125.037 75.29,127.469 75.3447,129.907 75.3709,129.657 77.9781,129.481 80.5847,129.473 83.1904,129.925 85.7901))', 'url': \"https://scihub.copernicus.eu/dhus/odata/v1/Products('b384df66-ca30-4fce-916a-729fe40ab971')/$value\", 'Online': True, 'Creation Date': datetime.datetime(2020, 5, 31, 17, 50, 9, 299000), 'Ingestion Date': datetime.datetime(2020, 5, 31, 17, 49, 17, 306000), 'path': './src/data/S3A_OL_2_LFR____20200530T132737_20200530T133037_20200531T172050_0179_059_010_1260_LN1_O_NT_002.zip', 'downloaded_bytes': 94820603})]), OrderedDict(), set())\n\n"
    }
   ],
   "source": [
    "# search by polygon, time, and Hub query keywords\n",
    "products_query = api.query(\n",
    "                    limit = 1,\n",
    "                    filename = 'S3A_*',\n",
    "                    producttype = 'OL_2_LFR___')\n",
    "\n",
    "os.makedirs(DOWNLOADED_DATA_PATH, exist_ok = True) \n",
    "products = api.download_all(products_query, DOWNLOADED_DATA_PATH)\n",
    "print(products)"
   ]
  },
  {
   "cell_type": "code",
   "execution_count": 3,
   "metadata": {},
   "outputs": [],
   "source": [
    "file_titles = []\n",
    "zip_files = []\n",
    "\n",
    "for product in products:\n",
    "    for product_id in product:\n",
    "        file_titles.append(product[product_id]['title'])\n",
    "        zip_files.append(product[product_id]['path'])\n",
    "\n",
    "        import zipfile\n",
    "        archive = zipfile.ZipFile(product[product_id]['path'], 'r')\n",
    "        archive.extractall(path=DOWNLOADED_DATA_PATH)\n",
    "\n",
    "for zip_file in zip_files:\n",
    "    if REMOVE_ZIPS:\n",
    "        os.remove(zip_file)    "
   ]
  },
  {
   "cell_type": "code",
   "execution_count": 4,
   "metadata": {},
   "outputs": [
    {
     "output_type": "stream",
     "name": "stdout",
     "text": "./src/data/S3A_OL_2_LFR____20200530T132737_20200530T133037_20200531T172050_0179_059_010_1260_LN1_O_NT_002.SEN3/geo_coordinates.nc\naltitude (4091, 4865)\nlatitude (4091, 4865)\nlongitude (4091, 4865)\n\n\n./src/data/S3A_OL_2_LFR____20200530T132737_20200530T133037_20200531T172050_0179_059_010_1260_LN1_O_NT_002.SEN3/instrument_data.nc\nFWHM (21, 3700)\ndetector_index (4091, 4865)\nframe_offset (3700,)\nlambda0 (21, 3700)\nrelative_spectral_covariance (21, 21)\nsolar_flux (21, 3700)\n\n\n./src/data/S3A_OL_2_LFR____20200530T132737_20200530T133037_20200531T172050_0179_059_010_1260_LN1_O_NT_002.SEN3/iwv.nc\nIWV (4091, 4865)\nIWV_err (4091, 4865)\n\n\n./src/data/S3A_OL_2_LFR____20200530T132737_20200530T133037_20200531T172050_0179_059_010_1260_LN1_O_NT_002.SEN3/lqsf.nc\nLQSF (4091, 4865)\n\n\n./src/data/S3A_OL_2_LFR____20200530T132737_20200530T133037_20200531T172050_0179_059_010_1260_LN1_O_NT_002.SEN3/ogvi.nc\nOGVI (4091, 4865)\nOGVI_err (4091, 4865)\n\n\n./src/data/S3A_OL_2_LFR____20200530T132737_20200530T133037_20200531T172050_0179_059_010_1260_LN1_O_NT_002.SEN3/otci.nc\nOTCI (4091, 4865)\nOTCI_err (4091, 4865)\nOTCI_quality_flags (4091, 4865)\n\n\n./src/data/S3A_OL_2_LFR____20200530T132737_20200530T133037_20200531T172050_0179_059_010_1260_LN1_O_NT_002.SEN3/rc_ogvi.nc\nRC681 (4091, 4865)\nRC681_err (4091, 4865)\nRC865 (4091, 4865)\nRC865_err (4091, 4865)\n\n\n./src/data/S3A_OL_2_LFR____20200530T132737_20200530T133037_20200531T172050_0179_059_010_1260_LN1_O_NT_002.SEN3/tie_geo_coordinates.nc\nlatitude (4091, 77)\nlongitude (4091, 77)\n\n\n./src/data/S3A_OL_2_LFR____20200530T132737_20200530T133037_20200531T172050_0179_059_010_1260_LN1_O_NT_002.SEN3/tie_geometries.nc\nOAA (4091, 77)\nOZA (4091, 77)\nSAA (4091, 77)\nSZA (4091, 77)\n\n\n./src/data/S3A_OL_2_LFR____20200530T132737_20200530T133037_20200531T172050_0179_059_010_1260_LN1_O_NT_002.SEN3/tie_meteo.nc\natmospheric_temperature_profile (4091, 77, 25)\nhorizontal_wind (4091, 77, 2)\nhumidity (4091, 77)\nreference_pressure_level (25,)\nsea_level_pressure (4091, 77)\ntotal_columnar_water_vapour (4091, 77)\ntotal_ozone (4091, 77)\n\n\n./src/data/S3A_OL_2_LFR____20200530T132737_20200530T133037_20200531T172050_0179_059_010_1260_LN1_O_NT_002.SEN3/time_coordinates.nc\ntime_stamp (4091,)\n\n\n"
    }
   ],
   "source": [
    "from netCDF4 import Dataset\n",
    "for file_title in file_titles:\n",
    "    data_path = os.path.join(DOWNLOADED_DATA_PATH, '{}.SEN3'.format(file_title))\n",
    "    for nc_file_name in sorted(os.listdir(data_path)):\n",
    "        if nc_file_name.endswith('.nc'):\n",
    "            nc_file_path =  os.path.join(data_path, nc_file_name)  \n",
    "            print(nc_file_path)\n",
    "            rootgrp = Dataset(nc_file_path, \"r\", format=\"NETCDF4\")\n",
    "\n",
    "            for i in rootgrp.variables:\n",
    "                print(i, rootgrp.variables[i].shape)\n",
    "\n",
    "            print('\\n')"
   ]
  },
  {
   "cell_type": "code",
   "execution_count": null,
   "metadata": {},
   "outputs": [],
   "source": []
  }
 ],
 "metadata": {
  "kernelspec": {
   "display_name": "Python 3",
   "language": "python",
   "name": "python3"
  },
  "language_info": {
   "codemirror_mode": {
    "name": "ipython",
    "version": 3
   },
   "file_extension": ".py",
   "mimetype": "text/x-python",
   "name": "python",
   "nbconvert_exporter": "python",
   "pygments_lexer": "ipython3",
   "version": "3.9.0-beta"
  }
 },
 "nbformat": 4,
 "nbformat_minor": 4
}