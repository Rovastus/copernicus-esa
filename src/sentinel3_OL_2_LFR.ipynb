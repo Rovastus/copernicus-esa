{
 "cells": [
  {
   "cell_type": "code",
   "execution_count": 1,
   "metadata": {
    "tags": [
     "outputPrepend"
    ]
   },
   "outputs": [],
   "source": [
    "from src.sentinel_api import get_sentinel_api\n",
    "from src.constant import GEOJSON_PATH, DOWNLOADED_DATA_PATH, REMOVE_ZIPS\n",
    "import os\n",
    "\n",
    "# get api \n",
    "api = get_sentinel_api()"
   ]
  },
  {
   "cell_type": "code",
   "execution_count": 2,
   "metadata": {},
   "outputs": [
    {
     "output_type": "stream",
     "name": "stderr",
     "text": "Downloading: 100%|██████████| 699M/699M [00:31<00:00, 22.0MB/s]\nMD5 checksumming: 100%|██████████| 699M/699M [00:19<00:00, 36.0MB/s](OrderedDict([('fec5ef14-41b8-466d-8eb2-e8c225ed0ba8', {'id': 'fec5ef14-41b8-466d-8eb2-e8c225ed0ba8', 'title': 'S3A_OL_1_EFR____20200530T140337_20200530T140637_20200531T170600_0179_059_010_3420_LN1_O_NT_002', 'size': 699080252, 'md5': '5E730EDFDB0149ED946C417E727FB462', 'date': datetime.datetime(2020, 5, 30, 14, 3, 36, 802000), 'footprint': 'POLYGON((-77.3851 -31.3693,-76.6996 -31.5709,-76.0084 -31.7688,-75.3115 -31.9637,-74.6166 -32.1535,-73.915 -32.3403,-73.211 -32.5231,-72.5082 -32.7009,-71.7977 -32.8762,-71.0834 -33.0476,-70.3614 -33.2111,-69.6412 -33.3745,-68.9345 -33.5275,-68.2135 -33.6843,-67.49 -33.8337,-66.7655 -33.9813,-66.0363 -34.1212,-65.3028 -34.2581,-64.5712 -34.3899,-63.8336 -34.5181,-63.1876 -31.8824,-62.5587 -29.2387,-61.9439 -26.593,-61.3411 -23.945,-62.005 -23.817,-62.6684 -23.6861,-63.3286 -23.5528,-63.9913 -23.417,-64.6475 -23.2756,-65.3035 -23.1339,-65.9534 -22.9874,-66.6006 -22.844,-67.2503 -22.6942,-67.9018 -22.5463,-68.5579 -22.3892,-69.2086 -22.2303,-69.8571 -22.0693,-70.5153 -21.9029,-71.161 -21.7367,-71.8018 -21.5688,-72.4458 -21.3972,-73.0859 -21.2237,-73.7227 -21.0476,-74.5626 -23.6418,-75.4494 -26.2283,-76.3883 -28.8063,-77.3851 -31.3693))', 'url': \"https://scihub.copernicus.eu/dhus/odata/v1/Products('fec5ef14-41b8-466d-8eb2-e8c225ed0ba8')/$value\", 'Online': True, 'Creation Date': datetime.datetime(2020, 5, 31, 17, 49, 9, 333000), 'Ingestion Date': datetime.datetime(2020, 5, 31, 17, 48, 18, 867000), 'path': './src/data/S3A_OL_1_EFR____20200530T140337_20200530T140637_20200531T170600_0179_059_010_3420_LN1_O_NT_002.zip', 'downloaded_bytes': 699080252})]), OrderedDict(), set())\n\n"
    }
   ],
   "source": [
    "# search by polygon, time, and Hub query keywords\n",
    "products_query = api.query(\n",
    "                    limit = 1,\n",
    "                    filename = 'S3A_*',\n",
    "                    producttype = 'OL_2_LFR___')\n",
    "\n",
    "os.makedirs(DOWNLOADED_DATA_PATH, exist_ok = True) \n",
    "products = api.download_all(products_query, DOWNLOADED_DATA_PATH)\n",
    "print(products)"
   ]
  },
  {
   "cell_type": "code",
   "execution_count": 3,
   "metadata": {},
   "outputs": [],
   "source": [
    "file_titles = []\n",
    "zip_files = []\n",
    "\n",
    "for product in products:\n",
    "    for product_id in product:\n",
    "        file_titles.append(product[product_id]['title'])\n",
    "        zip_files.append(product[product_id]['path'])\n",
    "\n",
    "        import zipfile\n",
    "        archive = zipfile.ZipFile(product[product_id]['path'], 'r')\n",
    "        archive.extractall(path=DOWNLOADED_DATA_PATH)\n",
    "\n",
    "for zip_file in zip_files:\n",
    "    if REMOVE_ZIPS:\n",
    "        os.remove(zip_file)    "
   ]
  },
  {
   "cell_type": "code",
   "execution_count": 6,
   "metadata": {},
   "outputs": [
    {
     "output_type": "stream",
     "name": "stdout",
     "text": "./src/data/S3A_OL_1_EFR____20200530T140337_20200530T140637_20200531T170600_0179_059_010_3420_LN1_O_NT_002.SEN3/Oa01_radiance.nc\nOa01_radiance (4091, 4865)\n\n\n./src/data/S3A_OL_1_EFR____20200530T140337_20200530T140637_20200531T170600_0179_059_010_3420_LN1_O_NT_002.SEN3/Oa02_radiance.nc\nOa02_radiance (4091, 4865)\n\n\n./src/data/S3A_OL_1_EFR____20200530T140337_20200530T140637_20200531T170600_0179_059_010_3420_LN1_O_NT_002.SEN3/Oa03_radiance.nc\nOa03_radiance (4091, 4865)\n\n\n./src/data/S3A_OL_1_EFR____20200530T140337_20200530T140637_20200531T170600_0179_059_010_3420_LN1_O_NT_002.SEN3/Oa04_radiance.nc\nOa04_radiance (4091, 4865)\n\n\n./src/data/S3A_OL_1_EFR____20200530T140337_20200530T140637_20200531T170600_0179_059_010_3420_LN1_O_NT_002.SEN3/Oa05_radiance.nc\nOa05_radiance (4091, 4865)\n\n\n./src/data/S3A_OL_1_EFR____20200530T140337_20200530T140637_20200531T170600_0179_059_010_3420_LN1_O_NT_002.SEN3/Oa06_radiance.nc\nOa06_radiance (4091, 4865)\n\n\n./src/data/S3A_OL_1_EFR____20200530T140337_20200530T140637_20200531T170600_0179_059_010_3420_LN1_O_NT_002.SEN3/Oa07_radiance.nc\nOa07_radiance (4091, 4865)\n\n\n./src/data/S3A_OL_1_EFR____20200530T140337_20200530T140637_20200531T170600_0179_059_010_3420_LN1_O_NT_002.SEN3/Oa08_radiance.nc\nOa08_radiance (4091, 4865)\n\n\n./src/data/S3A_OL_1_EFR____20200530T140337_20200530T140637_20200531T170600_0179_059_010_3420_LN1_O_NT_002.SEN3/Oa09_radiance.nc\nOa09_radiance (4091, 4865)\n\n\n./src/data/S3A_OL_1_EFR____20200530T140337_20200530T140637_20200531T170600_0179_059_010_3420_LN1_O_NT_002.SEN3/Oa10_radiance.nc\nOa10_radiance (4091, 4865)\n\n\n./src/data/S3A_OL_1_EFR____20200530T140337_20200530T140637_20200531T170600_0179_059_010_3420_LN1_O_NT_002.SEN3/Oa11_radiance.nc\nOa11_radiance (4091, 4865)\n\n\n./src/data/S3A_OL_1_EFR____20200530T140337_20200530T140637_20200531T170600_0179_059_010_3420_LN1_O_NT_002.SEN3/Oa12_radiance.nc\nOa12_radiance (4091, 4865)\n\n\n./src/data/S3A_OL_1_EFR____20200530T140337_20200530T140637_20200531T170600_0179_059_010_3420_LN1_O_NT_002.SEN3/Oa13_radiance.nc\nOa13_radiance (4091, 4865)\n\n\n./src/data/S3A_OL_1_EFR____20200530T140337_20200530T140637_20200531T170600_0179_059_010_3420_LN1_O_NT_002.SEN3/Oa14_radiance.nc\nOa14_radiance (4091, 4865)\n\n\n./src/data/S3A_OL_1_EFR____20200530T140337_20200530T140637_20200531T170600_0179_059_010_3420_LN1_O_NT_002.SEN3/Oa15_radiance.nc\nOa15_radiance (4091, 4865)\n\n\n./src/data/S3A_OL_1_EFR____20200530T140337_20200530T140637_20200531T170600_0179_059_010_3420_LN1_O_NT_002.SEN3/Oa16_radiance.nc\nOa16_radiance (4091, 4865)\n\n\n./src/data/S3A_OL_1_EFR____20200530T140337_20200530T140637_20200531T170600_0179_059_010_3420_LN1_O_NT_002.SEN3/Oa17_radiance.nc\nOa17_radiance (4091, 4865)\n\n\n./src/data/S3A_OL_1_EFR____20200530T140337_20200530T140637_20200531T170600_0179_059_010_3420_LN1_O_NT_002.SEN3/Oa18_radiance.nc\nOa18_radiance (4091, 4865)\n\n\n./src/data/S3A_OL_1_EFR____20200530T140337_20200530T140637_20200531T170600_0179_059_010_3420_LN1_O_NT_002.SEN3/Oa19_radiance.nc\nOa19_radiance (4091, 4865)\n\n\n./src/data/S3A_OL_1_EFR____20200530T140337_20200530T140637_20200531T170600_0179_059_010_3420_LN1_O_NT_002.SEN3/Oa20_radiance.nc\nOa20_radiance (4091, 4865)\n\n\n./src/data/S3A_OL_1_EFR____20200530T140337_20200530T140637_20200531T170600_0179_059_010_3420_LN1_O_NT_002.SEN3/Oa21_radiance.nc\nOa21_radiance (4091, 4865)\n\n\n./src/data/S3A_OL_1_EFR____20200530T140337_20200530T140637_20200531T170600_0179_059_010_3420_LN1_O_NT_002.SEN3/geo_coordinates.nc\naltitude (4091, 4865)\nlatitude (4091, 4865)\nlongitude (4091, 4865)\n\n\n./src/data/S3A_OL_1_EFR____20200530T140337_20200530T140637_20200531T170600_0179_059_010_3420_LN1_O_NT_002.SEN3/instrument_data.nc\nFWHM (21, 3700)\ndetector_index (4091, 4865)\nframe_offset (3700,)\nlambda0 (21, 3700)\nrelative_spectral_covariance (21, 21)\nsolar_flux (21, 3700)\n\n\n./src/data/S3A_OL_1_EFR____20200530T140337_20200530T140637_20200531T170600_0179_059_010_3420_LN1_O_NT_002.SEN3/qualityFlags.nc\nquality_flags (4091, 4865)\n\n\n./src/data/S3A_OL_1_EFR____20200530T140337_20200530T140637_20200531T170600_0179_059_010_3420_LN1_O_NT_002.SEN3/removed_pixels.nc\nOa01_radiance (4091, 135)\nOa02_radiance (4091, 135)\nOa03_radiance (4091, 135)\nOa04_radiance (4091, 135)\nOa05_radiance (4091, 135)\nOa06_radiance (4091, 135)\nOa07_radiance (4091, 135)\nOa08_radiance (4091, 135)\nOa09_radiance (4091, 135)\nOa10_radiance (4091, 135)\nOa11_radiance (4091, 135)\nOa12_radiance (4091, 135)\nOa13_radiance (4091, 135)\nOa14_radiance (4091, 135)\nOa15_radiance (4091, 135)\nOa16_radiance (4091, 135)\nOa17_radiance (4091, 135)\nOa18_radiance (4091, 135)\nOa19_radiance (4091, 135)\nOa20_radiance (4091, 135)\nOa21_radiance (4091, 135)\nSZA (4091, 135)\naltitude (4091, 135)\ndetector_index (4091, 135)\nlatitude (4091, 135)\nlongitude (4091, 135)\nnb_removed_pixels (4091,)\nquality_flags (4091, 135)\n\n\n./src/data/S3A_OL_1_EFR____20200530T140337_20200530T140637_20200531T170600_0179_059_010_3420_LN1_O_NT_002.SEN3/tie_geo_coordinates.nc\nlatitude (4091, 77)\nlongitude (4091, 77)\n\n\n./src/data/S3A_OL_1_EFR____20200530T140337_20200530T140637_20200531T170600_0179_059_010_3420_LN1_O_NT_002.SEN3/tie_geometries.nc\nOAA (4091, 77)\nOZA (4091, 77)\nSAA (4091, 77)\nSZA (4091, 77)\n\n\n./src/data/S3A_OL_1_EFR____20200530T140337_20200530T140637_20200531T170600_0179_059_010_3420_LN1_O_NT_002.SEN3/tie_meteo.nc\natmospheric_temperature_profile (4091, 77, 25)\nhorizontal_wind (4091, 77, 2)\nhumidity (4091, 77)\nreference_pressure_level (25,)\nsea_level_pressure (4091, 77)\ntotal_columnar_water_vapour (4091, 77)\ntotal_ozone (4091, 77)\n\n\n./src/data/S3A_OL_1_EFR____20200530T140337_20200530T140637_20200531T170600_0179_059_010_3420_LN1_O_NT_002.SEN3/time_coordinates.nc\ntime_stamp (4091,)\n\n\n"
    }
   ],
   "source": [
    "from netCDF4 import Dataset\n",
    "for file_title in file_titles:\n",
    "    data_path = os.path.join(DOWNLOADED_DATA_PATH, '{}.SEN3'.format(file_title))\n",
    "    for nc_file_name in sorted(os.listdir(data_path)):\n",
    "        if nc_file_name.endswith('.nc'):\n",
    "            nc_file_path =  os.path.join(data_path, nc_file_name)  \n",
    "            print(nc_file_path)\n",
    "            rootgrp = Dataset(nc_file_path, \"r\", format=\"NETCDF4\")\n",
    "\n",
    "            for i in rootgrp.variables:\n",
    "                print(i, rootgrp.variables[i].shape)\n",
    "\n",
    "            print('\\n')"
   ]
  },
  {
   "cell_type": "code",
   "execution_count": null,
   "metadata": {},
   "outputs": [],
   "source": []
  }
 ],
 "metadata": {
  "kernelspec": {
   "display_name": "Python 3",
   "language": "python",
   "name": "python3"
  },
  "language_info": {
   "codemirror_mode": {
    "name": "ipython",
    "version": 3
   },
   "file_extension": ".py",
   "mimetype": "text/x-python",
   "name": "python",
   "nbconvert_exporter": "python",
   "pygments_lexer": "ipython3",
   "version": "3.9.0-beta"
  }
 },
 "nbformat": 4,
 "nbformat_minor": 4
}